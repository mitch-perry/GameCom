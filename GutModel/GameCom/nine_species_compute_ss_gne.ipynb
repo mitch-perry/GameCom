{
 "cells": [
  {
   "cell_type": "markdown",
   "metadata": {},
   "source": [
    "Notebook for computing stable steady state GNE\n",
    "for the nine species gut microbiome model. \n",
    "Also includes code for generating Figure 4 in the paper."
   ]
  },
  {
   "cell_type": "code",
   "execution_count": null,
   "metadata": {},
   "outputs": [],
   "source": [
    "import numpy as np\n",
    "import scipy.io as sio\n",
    "import scipy.sparse as sparse\n",
    "import matplotlib.pyplot as plt\n",
    "plt.style.use('ggplot')\n",
    "import pickle\n",
    "import main\n",
    "import warnings\n",
    "warnings.filterwarnings('ignore')\n",
    "warnings.simplefilter('ignore')\n",
    "%load_ext autoreload\n",
    "%autoreload 2\n",
    "\n"
   ]
  },
  {
   "cell_type": "markdown",
   "metadata": {},
   "source": [
    "Note: this is the final notebook for computing steady states for the nine species model and checking their stability."
   ]
  },
  {
   "cell_type": "code",
   "execution_count": null,
   "metadata": {},
   "outputs": [],
   "source": [
    "directory = '../ModelFiles/'\n",
    "\n",
    "S = sio.loadmat(directory + 'S.mat')['S']\n",
    "I = sio.loadmat(directory + 'I.mat')['I'][0][0]\n",
    "J = sio.loadmat(directory + 'J.mat')['J'][0][0]\n",
    "reaction_lb = sio.loadmat(directory + 'lb.mat')['lb']\n",
    "reaction_ub = sio.loadmat(directory + 'ub.mat')['ub']\n",
    "lumen_reactions_idx = sio.loadmat(directory + 'lumen_reactions_idx.mat')['lumen_uptake_reactions_idx'] - 1\n",
    "lumen_metabolites_idx = sio.loadmat(directory + 'lumen_metabolites_idx.mat')['lumen_metabolites_idx'] - 1\n",
    "lumen_reaction_names = sio.loadmat(directory + 'lumen_reactions.mat')['lumen_uptake_reactions']\n",
    "lumen_reaction_names = np.array([lumen_reaction_names[i][0] for i in range(len(lumen_reaction_names))])\n",
    "Jl = len(lumen_reactions_idx)\n",
    "spAbbr = ['Bt', 'Fp', 'Kp', 'St', 'Ba', 'Ec', 'Ef', 'Er', 'Lc']\n",
    "death_rate = 0.06\n",
    "max_iters = 5\n",
    "delta_max = 1\n",
    "delta_min = 1e-3\n",
    "C = 5e1\n",
    "B = 3\n",
    "sigmoid = lambda x : 1 / (1 + np.exp(-x))\n",
    "k = np.linspace(0, max_iters, max_iters)\n",
    "delta_vals = delta_min + (delta_max - delta_min) * sigmoid(k/C - B)\n"
   ]
  },
  {
   "cell_type": "code",
   "execution_count": null,
   "metadata": {},
   "outputs": [],
   "source": [
    "species_params = []\n",
    "for i in range(9):\n",
    "    species_params.append({'name':spAbbr[i]})\n",
    "    species_params[i]['reactions_idx'] = sio.loadmat(directory + spAbbr[i] + '_reactions_idx.mat')[spAbbr[i] + '_reactions_idx'] - 1\n",
    "    species_params[i]['reaction_names'] = sio.loadmat(directory + spAbbr[i] + '_reactions.mat')[spAbbr[i] + '_reactions']\n",
    "    species_params[i]['metabolites_idx'] = sio.loadmat(directory + spAbbr[i] + '_metabolites_idx.mat')[spAbbr[i] + '_metabolites_idx'] - 1\n",
    "    species_params[i]['biomass_idx'] = sio.loadmat(directory + spAbbr[i] + '_biomass_idx.mat')[spAbbr[i] + '_biomass_idx'] - 1\n",
    "    species_params[i]['I'] = len(species_params[i]['metabolites_idx'])\n",
    "    species_params[i]['J'] = len(species_params[i]['reactions_idx'])\n",
    "    species_params[i]['e'] = sparse.identity(species_params[i]['J'] + Jl).tocsr()[:, species_params[i]['biomass_idx'].flatten()]\n",
    "    "
   ]
  },
  {
   "cell_type": "code",
   "execution_count": null,
   "metadata": {
    "collapsed": true,
    "jupyter": {
     "outputs_hidden": true
    },
    "tags": []
   },
   "outputs": [],
   "source": [
    "# Create many samples of community composition near\n",
    "# actual data for the nine species model.\n",
    "num_starting_points = 100\n",
    "bm_vals_target = np.array([0.45, 0.3, 0.1, 0.05, 0.02, 0.02, 0.02, 0.02, 0.02])\n",
    "bm_vals_init = np.maximum(bm_vals_target[:, None] + np.random.uniform(-0.05, 0.05, (9, num_starting_points)), 0.001)\n",
    "bm_vals_init = np.divide(bm_vals_init, np.sum(bm_vals_init, axis=0)[None,:])\n",
    "steady_states = []\n",
    "for i in range(num_starting_points):\n",
    "    print('Biomass sample ', i)\n",
    "    output = main.initial_guess(bm_vals_init[:,i], species_params, S, Jl,\n",
    "                                lumen_reactions_idx, death_rate, reaction_lb, reaction_ub)\n",
    "    status = output[0]\n",
    "    x_vals_init = output[1:]\n",
    "    if status != 'optimal':\n",
    "        pass\n",
    "    num_iters, x_vals_new, bm_vals_new = main.compute_steady_state(bm_vals_init[:,i], x_vals_init, max_iters,\n",
    "                                                                  1e-6, 1e-6, delta_vals, species_params,\n",
    "                                                                  S, Jl, lumen_reactions_idx,\n",
    "                                                                  reaction_lb, reaction_ub, death_rate)\n",
    "    if num_iters < max_iters:\n",
    "        x_vals_new = main.initial_guess(bm_vals_new, species_params, S, Jl,\n",
    "                                        lumen_reactions_idx, death_rate, reaction_lb, reaction_ub)\n",
    "        if x_vals_new[0] != 'optimal':\n",
    "            pass\n",
    "        steady_states.append((bm_vals_new, x_vals_new[1:]))\n",
    "    print('\\n')\n",
    "    "
   ]
  },
  {
   "cell_type": "code",
   "execution_count": null,
   "metadata": {},
   "outputs": [],
   "source": [
    "pickle.dump(steady_states, open(\"steady_states_nine_species.p\", \"wb\"))\n"
   ]
  },
  {
   "cell_type": "code",
   "execution_count": null,
   "metadata": {},
   "outputs": [],
   "source": [
    "steady_states = pickle.load(open(\"steady_states_nine_species.p\", \"rb\"))\n"
   ]
  },
  {
   "cell_type": "code",
   "execution_count": null,
   "metadata": {
    "tags": []
   },
   "outputs": [],
   "source": [
    "stable_steady_states = []\n",
    "unstable_steady_states = []\n",
    "for i in range(len(steady_states)):\n",
    "    print('Checking stability of steady state ', i)\n",
    "    bm_vals, x_vals = steady_states[i]\n",
    "    try:\n",
    "        pert_size = 1e-9\n",
    "        feas_tol = 1e-2\n",
    "        stable, max_eig = main.stability(bm_vals, x_vals, pert_size, \n",
    "                                        species_params, S, Jl, reaction_lb,\n",
    "                                        reaction_ub, lumen_reactions_idx,\n",
    "                                        lumen_metabolites_idx, feas_tol)\n",
    "    except:\n",
    "        continue\n",
    "    \n",
    "    if stable:\n",
    "        stable_steady_states.append((bm_vals, x_vals, max_eig))\n",
    "    else:\n",
    "        unstable_steady_states.append((bm_vals, x_vals, max_eig))\n"
   ]
  },
  {
   "cell_type": "code",
   "execution_count": null,
   "metadata": {},
   "outputs": [],
   "source": [
    "pickle.dump(unstable_steady_states, open(\"unstable_steady_states_nine_species.p\", \"wb\"))\n",
    "pickle.dump(stable_steady_states, open(\"stable_steady_states_nine_species.p\", \"wb\"))\n"
   ]
  },
  {
   "cell_type": "code",
   "execution_count": null,
   "metadata": {},
   "outputs": [],
   "source": [
    "unstable_ss = pickle.load(open('unstable_steady_states_nine_species.p', 'rb'))\n",
    "stable_ss = pickle.load(open('stable_steady_states_nine_species.p', 'rb'))\n"
   ]
  },
  {
   "cell_type": "code",
   "execution_count": null,
   "metadata": {},
   "outputs": [],
   "source": [
    "print(len(unstable_ss))\n",
    "print(len(stable_ss))\n"
   ]
  },
  {
   "cell_type": "code",
   "execution_count": null,
   "metadata": {},
   "outputs": [],
   "source": [
    "stable_ss1_bm = stable_ss[0][0]\n",
    "stable_ss2_bm = stable_ss[1][0]\n",
    "\n",
    "stable_ss1_bm_phyla = [stable_ss1_bm[0],\n",
    "                      stable_ss1_bm[7]+stable_ss1_bm[1]+stable_ss1_bm[6]+stable_ss1_bm[8]+stable_ss1_bm[3],\n",
    "                      stable_ss1_bm[4],\n",
    "                      stable_ss1_bm[5]+stable_ss1_bm[2],\n",
    "                      stable_ss1_bm[7]+stable_ss1_bm[1],\n",
    "                      stable_ss1_bm[6]+stable_ss1_bm[8]+stable_ss1_bm[3]]\n",
    "\n",
    "stable_ss2_bm_phyla = [stable_ss2_bm[0],\n",
    "                      stable_ss2_bm[7]+stable_ss2_bm[1]+stable_ss2_bm[6]+stable_ss2_bm[8]+stable_ss2_bm[3],\n",
    "                      stable_ss2_bm[4],\n",
    "                      stable_ss2_bm[5]+stable_ss2_bm[2],\n",
    "                      stable_ss2_bm[7]+stable_ss2_bm[1],\n",
    "                      stable_ss2_bm[6]+stable_ss2_bm[8]+stable_ss2_bm[3]]\n"
   ]
  },
  {
   "cell_type": "code",
   "execution_count": null,
   "metadata": {},
   "outputs": [],
   "source": [
    "steadycom_bm = sio.loadmat('biomasses.mat')['biomass']\n",
    "steadycom_bm_phyla = [steadycom_bm[0][0],\n",
    "                    steadycom_bm[7][0]+steadycom_bm[1][0]+steadycom_bm[6][0]+steadycom_bm[8][0]+steadycom_bm[3][0],\n",
    "                    steadycom_bm[4][0],\n",
    "                    steadycom_bm[5][0]+steadycom_bm[2][0],\n",
    "                    steadycom_bm[7][0]+steadycom_bm[1][0],\n",
    "                    steadycom_bm[6][0]+steadycom_bm[8][0]+steadycom_bm[3][0]]\n",
    "                    "
   ]
  },
  {
   "cell_type": "code",
   "execution_count": null,
   "metadata": {},
   "outputs": [],
   "source": [
    "steadycom_bm[0]"
   ]
  },
  {
   "cell_type": "code",
   "execution_count": null,
   "metadata": {},
   "outputs": [],
   "source": [
    "steadycom_bm_phyla_paper_approx = [0.45, 0.5, 0.02, 0.03, 0.40, 0.1]"
   ]
  },
  {
   "cell_type": "code",
   "execution_count": null,
   "metadata": {},
   "outputs": [],
   "source": [
    "experiment1_bm_phyla_approx = [0.675, 0.29, 0.03, 0.005, 0.285, 0.005]\n",
    "experiment2_bm_phyla_approx = [0.35, 0.62, 0.02, 0.01, 0.6, 0.02]\n"
   ]
  },
  {
   "cell_type": "code",
   "execution_count": null,
   "metadata": {},
   "outputs": [],
   "source": [
    "phyla = ['Bacteroidetes', 'Firmicutes', 'Actinobacteria', 'Proteobacteria',\n",
    "        'Clostridia', 'Bacili']\n",
    "barWidth = 0.2\n",
    "fig = plt.subplots(figsize = (24, 14))\n",
    "\n",
    "br1 = 2*np.arange(6)\n",
    "br2 = [x + barWidth for x in br1]\n",
    "br3 = [x + barWidth for x in br2]\n",
    "br4 = [x + barWidth for x in br3]\n",
    "br5 = [x + barWidth for x in br4]\n",
    "br6 = [x + barWidth for x in br5]\n",
    "\n",
    "plt.bar(br1, stable_ss1_bm_phyla, width = barWidth, \n",
    "        label = 'Stable SS 1')\n",
    "plt.bar(br2, stable_ss2_bm_phyla, width = barWidth,\n",
    "        label = 'Stable SS 2')\n",
    "plt.bar(br3, steadycom_bm_phyla_paper_approx, width = barWidth,\n",
    "        label = 'SteadyCom Random Update Bounds')\n",
    "plt.bar(br4, steadycom_bm_phyla, width = barWidth,\n",
    "        label = 'SteadyCom')\n",
    "plt.bar(br5, experiment1_bm_phyla_approx,\n",
    "        width = barWidth, label = 'Souza et al.')\n",
    "plt.bar(br6, experiment2_bm_phyla_approx,\n",
    "        width = barWidth, label = 'Turnbaugh et al.')\n",
    "\n",
    "plt.ylabel('Proportion of total \\n community biomass', fontsize = 24)\n",
    "plt.xticks([r + 2*barWidth for r in 2*np.arange(6)], phyla, fontsize = 28)\n",
    "plt.yticks(fontsize = 24)\n",
    "\n",
    "plt.legend(loc = 'best', fontsize = 24)\n",
    "plt.savefig('nine_species_comparison.png')\n",
    "plt.show()\n"
   ]
  }
 ],
 "metadata": {
  "interpreter": {
   "hash": "8e32fce6a6c3fd48953af81f35dd8f0e6fbd7c4087b039bf734f43a70745cec5"
  },
  "kernelspec": {
   "display_name": "Python 3 (ipykernel)",
   "language": "python",
   "name": "python3"
  },
  "language_info": {
   "codemirror_mode": {
    "name": "ipython",
    "version": 3
   },
   "file_extension": ".py",
   "mimetype": "text/x-python",
   "name": "python",
   "nbconvert_exporter": "python",
   "pygments_lexer": "ipython3",
   "version": "3.8.8"
  }
 },
 "nbformat": 4,
 "nbformat_minor": 4
}
