{
 "cells": [
  {
   "cell_type": "markdown",
   "id": "793c4459",
   "metadata": {},
   "source": [
    "Notebook for analyzing the stability of steady states to biomass perturbations. Includes code for generating Figures 2 (a) from the main \n",
    "text and 1 (a) from the supplemental information, as well as Table 1 in the \n",
    "main text.\n"
   ]
  },
  {
   "cell_type": "code",
   "execution_count": 1,
   "id": "07232b32-2ffe-414e-82fa-a5455a96d415",
   "metadata": {},
   "outputs": [],
   "source": [
    "import numpy as np\n",
    "import scipy.sparse as sparse\n",
    "import scipy.io as sio\n",
    "import pickle\n"
   ]
  },
  {
   "cell_type": "code",
   "execution_count": 2,
   "id": "afcf2e69-2577-4ecd-8fd3-ae17c03ecd14",
   "metadata": {},
   "outputs": [],
   "source": [
    "# Load data for model.\n",
    "directory = '../ModelFiles/FourSpecies'\n",
    "\n",
    "# S contains the stoichiometry matrices R_{k} and R_{k}^{ex} for each species k.\n",
    "S = sio.loadmat(directory + '/S.mat')['S']\n",
    "I = sio.loadmat(directory + '/I.mat')['I'][0][0]\n",
    "J = sio.loadmat(directory + '/J.mat')['J'][0][0]\n",
    "reaction_lb = sio.loadmat(directory + '/lb.mat')['lb']\n",
    "reaction_ub = sio.loadmat(directory + '/ub.mat')['ub']\n",
    "\n",
    "# Indices of reactions and metabolites for each species, needed because \n",
    "# cobra groups all metabolites and reactions into a single model.\n",
    "lumen_reactions_idx = sio.loadmat(directory + '/lumen_reactions_idx.mat')['lumen_reactions_idx'] - 1\n",
    "lumen_metabolites_idx = sio.loadmat(directory + '/lumen_metabolites_idx.mat')['lumen_metabolites_idx'] - 1\n",
    "lumen_reaction_names = sio.loadmat(directory + '/lumen_reactions.mat')['lumen_reactions']\n",
    "\n",
    "Ec1_reactions_idx = sio.loadmat(directory + '/Ec1_reactions_idx.mat')['Ec1_reactions_idx'] - 1\n",
    "Ec1_reaction_names = sio.loadmat(directory + '/Ec1_reactions.mat')['Ec1_reactions']\n",
    "Ec1_metabolites_idx = sio.loadmat(directory + '/Ec1_metabolites_idx.mat')['Ec1_metabolites_idx'] - 1\n",
    "Ec1_biomass_idx = sio.loadmat(directory + '/Ec1_biomass_idx.mat')['Ec1_biomass_idx'][0][0]-1\n",
    "\n",
    "Ec2_reactions_idx = sio.loadmat(directory + '/Ec2_reactions_idx.mat')['Ec2_reactions_idx'] - 1\n",
    "Ec2_reaction_names = sio.loadmat(directory + '/Ec2_reactions.mat')['Ec2_reactions']\n",
    "Ec2_metabolites_idx = sio.loadmat(directory + '/Ec2_metabolites_idx.mat')['Ec2_metabolites_idx'] - 1\n",
    "Ec2_biomass_idx = sio.loadmat(directory + '/Ec2_biomass_idx.mat')['Ec2_biomass_idx'][0][0]-1\n",
    "\n",
    "Ec3_reactions_idx = sio.loadmat(directory + '/Ec3_reactions_idx.mat')['Ec3_reactions_idx'] - 1\n",
    "Ec3_reaction_names = sio.loadmat(directory + '/Ec3_reactions.mat')['Ec3_reactions']\n",
    "Ec3_metabolites_idx = sio.loadmat(directory + '/Ec3_metabolites_idx.mat')['Ec3_metabolites_idx'] - 1\n",
    "Ec3_biomass_idx = sio.loadmat(directory + '/Ec3_biomass_idx.mat')['Ec3_biomass_idx'][0][0]-1\n",
    "\n",
    "Ec4_reactions_idx = sio.loadmat(directory + '/Ec4_reactions_idx.mat')['Ec4_reactions_idx'] - 1\n",
    "Ec4_reaction_names = sio.loadmat(directory + '/Ec4_reactions.mat')['Ec4_reactions']\n",
    "Ec4_metabolites_idx = sio.loadmat(directory + '/Ec4_metabolites_idx.mat')['Ec4_metabolites_idx'] - 1\n",
    "Ec4_biomass_idx = sio.loadmat(directory + '/Ec4_biomass_idx.mat')['Ec4_biomass_idx'][0][0]-1\n",
    "\n",
    "I1 = len(Ec1_metabolites_idx); I2 = len(Ec2_metabolites_idx); I3 = len(Ec3_metabolites_idx); I4 = len(Ec4_metabolites_idx)\n",
    "Jl = len(lumen_reactions_idx); J1 = len(Ec1_reactions_idx); J2 = len(Ec2_reactions_idx); J3 = len(Ec3_reactions_idx); J4 = len(Ec4_reactions_idx)\n",
    "\n",
    "Ec1_reaction_names = np.array([Ec1_reaction_names[i][0] for i in range(len(Ec1_reaction_names))])\n",
    "Ec2_reaction_names = np.array([Ec2_reaction_names[i][0] for i in range(len(Ec2_reaction_names))])\n",
    "Ec3_reaction_names = np.array([Ec3_reaction_names[i][0] for i in range(len(Ec3_reaction_names))])\n",
    "Ec4_reaction_names = np.array([Ec4_reaction_names[i][0] for i in range(len(Ec4_reaction_names))])\n",
    "lumen_reaction_names = np.array([lumen_reaction_names[i][0] for i in range(len(lumen_reaction_names))])\n",
    "\n",
    "# Create vectors that can be dotted with vector of reactions for each species \n",
    "# and pull out the biomass reaction.\n",
    "e1 = sparse.identity(J1 + Jl).tocsr()[:, Ec1_biomass_idx]; e2 = sparse.identity(J2 + Jl).tocsr()[:, Ec2_biomass_idx]\n",
    "e3 = sparse.identity(J3 + Jl).tocsr()[:, Ec3_biomass_idx]; e4 = sparse.identity(J4 + Jl).tocsr()[:, Ec4_biomass_idx]\n",
    "\n"
   ]
  },
  {
   "cell_type": "code",
   "execution_count": 3,
   "id": "ef52758f-251e-4bde-9aba-a16f6b33ed75",
   "metadata": {},
   "outputs": [],
   "source": [
    "death_rate = np.array([0.50])\n",
    "stable_steady_states = pickle.load(open(\"stable_steady_states.p\", \"rb\"))\n",
    "unstable_steady_states = pickle.load(open(\"unstable_steady_states.p\", \"rb\"))\n"
   ]
  },
  {
   "cell_type": "code",
   "execution_count": 4,
   "id": "388d7101-d358-49d5-b544-8072c209f3cc",
   "metadata": {},
   "outputs": [],
   "source": [
    "steadycom_biomass = np.sum(unstable_steady_states[-1][0])\n"
   ]
  },
  {
   "cell_type": "code",
   "execution_count": 5,
   "id": "3b87095c-a3c3-48f9-a271-b90c3297bc5a",
   "metadata": {},
   "outputs": [],
   "source": [
    "steady_states_bm = np.zeros((len(stable_steady_states) + len(unstable_steady_states), 4))\n",
    "for i in range(len(stable_steady_states)):\n",
    "    steady_states_bm[i,:] = stable_steady_states[i][0]\n",
    "for i in range(len(unstable_steady_states)):\n",
    "    steady_states_bm[i+len(stable_steady_states),:] = unstable_steady_states[i][0]\n",
    "    "
   ]
  },
  {
   "cell_type": "code",
   "execution_count": 6,
   "id": "1b60113d-71dd-47da-8ea3-3c9d32dac77d",
   "metadata": {},
   "outputs": [],
   "source": [
    "bm1, bm2, bm3, bm4 = steady_states_bm[-1, :]\n"
   ]
  },
  {
   "cell_type": "code",
   "execution_count": 7,
   "id": "204b9320-7dbd-4c2f-a28d-7d05a6bdd550",
   "metadata": {},
   "outputs": [
    {
     "data": {
      "image/png": "[encoded data removed]",
      "text/plain": [
       "<Figure size 792x432 with 2 Axes>"
      ]
     },
     "metadata": {},
     "output_type": "display_data"
    }
   ],
   "source": [
    "import matplotlib.pyplot as plt\n",
    "import seaborn as sns\n",
    "plt.style.use('ggplot')\n",
    "labels = ['Steady \\n Com', 'Stable \\n SS 1', 'Stable \\n SS 2', 'Stable \\n SS 3', 'Stable \\n SS 4', 'Stable \\n SS 5', 'Stable \\n SS 6', 'Stable \\n SS 7']\n",
    "bm1_vals = [bm1, steady_states_bm[0][0], steady_states_bm[1][0], steady_states_bm[2][0],\n",
    "            steady_states_bm[3][0], steady_states_bm[4][0], steady_states_bm[5][0], steady_states_bm[6][0]]\n",
    "bm2_vals = [bm2, steady_states_bm[0][1], steady_states_bm[1][1], steady_states_bm[2][1],\n",
    "            steady_states_bm[3][1], steady_states_bm[4][1], steady_states_bm[5][1], steady_states_bm[6][1]]\n",
    "bm3_vals = [bm3, steady_states_bm[0][2], steady_states_bm[1][2], steady_states_bm[2][2],\n",
    "            steady_states_bm[3][2], steady_states_bm[4][2], steady_states_bm[5][2], steady_states_bm[6][2]]\n",
    "bm4_vals = [bm4, steady_states_bm[0][3], steady_states_bm[1][3], steady_states_bm[2][3],\n",
    "            steady_states_bm[3][3], steady_states_bm[4][3], steady_states_bm[5][3], steady_states_bm[6][3]]\n",
    "\n",
    "width = 0.50\n",
    "\n",
    "plt.rcParams[\"figure.figsize\"] = (11,6)\n",
    "fig, ax = plt.subplots(1,2,gridspec_kw={\"width_ratios\": [1,4]})\n",
    "\n",
    "graph = sns.boxplot(data = [[np.sum(unstable_steady_states[i][0]) for i in range(len(unstable_steady_states))], [np.sum(stable_steady_states[i][0]) for i in range(len(stable_steady_states))]],\n",
    "                    orient='v', ax=ax[0])\n",
    "graph.axhline(bm1+bm2+bm3+bm4, color = 'black', linestyle = '--')\n",
    "graph.set(ylabel='Community biomass')\n",
    "graph.set_xticklabels(['Unstable \\n steady \\n states', 'Stable \\n steady states'])\n",
    "\n",
    "ax[1].bar(labels, bm1_vals, width, label='Ec1')\n",
    "ax[1].bar(labels, bm2_vals, width, label='Ec2', bottom=bm1_vals)\n",
    "ax[1].bar(labels, bm3_vals, width, label='Ec3', bottom=[bm1_vals[i] + bm2_vals[i] for i in range(len(bm1_vals))])\n",
    "ax[1].bar(labels, bm4_vals, width, label='Ec4', bottom=[bm1_vals[i] + bm2_vals[i] + bm3_vals[i] for i in range(len(bm1_vals))])\n",
    "\n",
    "ax[1].set_ylabel('Biomass')\n",
    "ax[1].legend(loc='center right')\n",
    "\n",
    "plt.style.use('ggplot')\n",
    "# plt.savefig('writeup_fig2_death_rate.png', bbox_inches='tight')\n",
    "\n",
    "plt.show()\n",
    "\n"
   ]
  },
  {
   "cell_type": "markdown",
   "id": "0668d5b0-4b72-4953-858f-b06879cb9f19",
   "metadata": {},
   "source": [
    "Now analyze the underlying chemical reactions for the steady states."
   ]
  },
  {
   "cell_type": "code",
   "execution_count": 8,
   "id": "dd690acd-71a6-4cd2-a461-44c56b5bc729",
   "metadata": {},
   "outputs": [],
   "source": [
    "exhausted_aux_mets_stable = []\n",
    "exhausted_aux_mets_unstable = []\n",
    "limited_ex_resources_stable = []\n",
    "limited_ex_resources_unstable = []\n",
    "active_lb_stable = []\n",
    "active_lb_unstable = []\n",
    "active_ub_stable = []\n",
    "active_ub_unstable = []\n"
   ]
  },
  {
   "cell_type": "code",
   "execution_count": 9,
   "id": "88bf81b5-caf7-4e73-b234-0d68f87f6971",
   "metadata": {},
   "outputs": [],
   "source": [
    "arg_ex_idx = np.where(Ec1_reaction_names == 'Ec1IEX_arg__L[u]tr')[0]\n",
    "lys_ex_idx = np.where(Ec1_reaction_names == 'Ec1IEX_lys__L[u]tr')[0]\n",
    "met_ex_idx = np.where(Ec1_reaction_names == 'Ec1IEX_met__L[u]tr')[0]\n",
    "phe_ex_idx = np.where(Ec1_reaction_names == 'Ec1IEX_phe__L[u]tr')[0]\n"
   ]
  },
  {
   "cell_type": "code",
   "execution_count": 10,
   "id": "41a873dc-a333-422b-bab4-2617712fd6ff",
   "metadata": {},
   "outputs": [],
   "source": [
    "nonzero_rhs_idx = np.where(reaction_lb[lumen_reactions_idx.flatten()] != 0)[0]\n"
   ]
  },
  {
   "cell_type": "code",
   "execution_count": 11,
   "id": "07e6ad73-4d04-4f30-959c-789ca829d385",
   "metadata": {},
   "outputs": [
    {
     "name": "stderr",
     "output_type": "stream",
     "text": [
      "/home/mitch/anaconda3/lib/python3.7/site-packages/numpy/core/fromnumeric.py:3335: RuntimeWarning: Mean of empty slice.\n",
      "  out=out, **kwargs)\n",
      "/home/mitch/anaconda3/lib/python3.7/site-packages/numpy/core/_methods.py:161: RuntimeWarning: invalid value encountered in double_scalars\n",
      "  ret = ret.dtype.type(ret / rcount)\n"
     ]
    },
    {
     "data": {
      "text/plain": [
       "nan"
      ]
     },
     "execution_count": 11,
     "metadata": {},
     "output_type": "execute_result"
    }
   ],
   "source": [
    "np.mean(active_ub_unstable)"
   ]
  },
  {
   "cell_type": "code",
   "execution_count": 12,
   "id": "215e849a-2542-4f43-b36e-c8f2ff662ee4",
   "metadata": {},
   "outputs": [],
   "source": [
    "for i in range(len(stable_steady_states)):\n",
    "    ss_i = stable_steady_states[i]\n",
    "    biomass_ss_i = ss_i[0]\n",
    "    x1_ss_i = ss_i[1]\n",
    "    x2_ss_i = ss_i[2]\n",
    "    x3_ss_i = ss_i[3]\n",
    "    x4_ss_i = ss_i[4]\n",
    "\n",
    "    arg_balance = x1_ss_i[arg_ex_idx][0][0] * biomass_ss_i[0] + x2_ss_i[arg_ex_idx][0][0] * biomass_ss_i[1] + x3_ss_i[arg_ex_idx][0][0] * biomass_ss_i[2] + x4_ss_i[arg_ex_idx][0][0] * biomass_ss_i[3]\n",
    "    arg_balance = int(np.abs(arg_balance) < 1e-6)\n",
    "    lys_balance = x1_ss_i[lys_ex_idx][0][0] * biomass_ss_i[0] + x2_ss_i[lys_ex_idx][0][0] * biomass_ss_i[1] + x3_ss_i[lys_ex_idx][0][0] * biomass_ss_i[2] + x4_ss_i[lys_ex_idx][0][0] * biomass_ss_i[3]\n",
    "    lys_balance = int(np.abs(lys_balance) < 1e-6)\n",
    "    met_balance = x1_ss_i[met_ex_idx][0][0] * biomass_ss_i[0] + x2_ss_i[met_ex_idx][0][0] * biomass_ss_i[1] + x3_ss_i[met_ex_idx][0][0] * biomass_ss_i[2] + x4_ss_i[met_ex_idx][0][0] * biomass_ss_i[3]\n",
    "    met_balance = int(np.abs(met_balance) < 1e-6)\n",
    "    phe_balance = x1_ss_i[phe_ex_idx][0][0] * biomass_ss_i[0] + x2_ss_i[phe_ex_idx][0][0] * biomass_ss_i[1] + x3_ss_i[phe_ex_idx][0][0] * biomass_ss_i[2] + x4_ss_i[phe_ex_idx][0][0] * biomass_ss_i[3]\n",
    "    phe_balance = int(np.abs(phe_balance) < 1e-6)\n",
    "    exhausted_aux_mets_stable.append(arg_balance + lys_balance + met_balance + phe_balance)\n",
    "\n",
    "    nonzero_rhs_idx = np.where(reaction_lb[lumen_reactions_idx.flatten()] != 0)[0]\n",
    "    active_rhs_idx = np.where(x1_ss_i[J1:][nonzero_rhs_idx] * biomass_ss_i[0] + x2_ss_i[J2:][nonzero_rhs_idx] * biomass_ss_i[1] + x3_ss_i[J3:][nonzero_rhs_idx] * biomass_ss_i[2] + x4_ss_i[J4:][nonzero_rhs_idx] * biomass_ss_i[3] - reaction_lb[lumen_reactions_idx.flatten()][nonzero_rhs_idx] <= 1e-6)[0]\n",
    "    limited_ex_resources_stable.append(len(active_rhs_idx))\n",
    "\n",
    "    nonzero_reaction_lb_idx = np.where(reaction_lb[Ec1_reactions_idx.flatten()] != 0)[0]\n",
    "    active_lb = len(np.where(x1_ss_i[0:J1][nonzero_reaction_lb_idx] - reaction_lb[Ec1_reactions_idx.flatten()][nonzero_reaction_lb_idx] == 0)[0])\n",
    "    active_lb = active_lb + len(np.where(x2_ss_i[0:J2][nonzero_reaction_lb_idx] - reaction_lb[Ec2_reactions_idx.flatten()][nonzero_reaction_lb_idx] == 0)[0])\n",
    "    active_lb = active_lb + len(np.where(x3_ss_i[0:J3][nonzero_reaction_lb_idx] - reaction_lb[Ec3_reactions_idx.flatten()][nonzero_reaction_lb_idx] == 0)[0])\n",
    "    active_lb = active_lb + len(np.where(x4_ss_i[0:J4][nonzero_reaction_lb_idx] - reaction_lb[Ec4_reactions_idx.flatten()][nonzero_reaction_lb_idx] == 0)[0])\n",
    "    active_lb_stable.append(active_lb)\n",
    "\n",
    "    nonzero_reaction_ub_idx = np.where(reaction_ub[Ec1_reactions_idx.flatten()] != 0)[0]\n",
    "    active_ub = len(np.where(reaction_ub[Ec1_reactions_idx.flatten()][nonzero_reaction_ub_idx] - x1_ss_i[0:J1][nonzero_reaction_ub_idx] == 0)[0])\n",
    "    active_ub = active_ub + len(np.where(reaction_ub[Ec2_reactions_idx.flatten()][nonzero_reaction_ub_idx] - x2_ss_i[0:J2][nonzero_reaction_ub_idx] == 0)[0])\n",
    "    active_ub = active_ub + len(np.where(reaction_ub[Ec3_reactions_idx.flatten()][nonzero_reaction_ub_idx] - x3_ss_i[0:J3][nonzero_reaction_ub_idx] == 0)[0])\n",
    "    active_ub = active_ub + len(np.where(reaction_ub[Ec4_reactions_idx.flatten()][nonzero_reaction_ub_idx] - x4_ss_i[0:J4][nonzero_reaction_ub_idx] == 0)[0])\n",
    "    active_ub_stable.append(active_ub)\n",
    "    \n",
    "for i in range(len(unstable_steady_states)):\n",
    "    ss_i = unstable_steady_states[i]\n",
    "    biomass_ss_i = ss_i[0]\n",
    "    x1_ss_i = ss_i[1]\n",
    "    x2_ss_i = ss_i[2]\n",
    "    x3_ss_i = ss_i[3]\n",
    "    x4_ss_i = ss_i[4]\n",
    "\n",
    "    arg_balance = x1_ss_i[arg_ex_idx][0][0] * biomass_ss_i[0] + x2_ss_i[arg_ex_idx][0][0] * biomass_ss_i[1] + x3_ss_i[arg_ex_idx][0][0] * biomass_ss_i[2] + x4_ss_i[arg_ex_idx][0][0] * biomass_ss_i[3]\n",
    "    arg_balance = int(np.abs(arg_balance) < 1e-6)\n",
    "    lys_balance = x1_ss_i[lys_ex_idx][0][0] * biomass_ss_i[0] + x2_ss_i[lys_ex_idx][0][0] * biomass_ss_i[1] + x3_ss_i[lys_ex_idx][0][0] * biomass_ss_i[2] + x4_ss_i[lys_ex_idx][0][0] * biomass_ss_i[3]\n",
    "    lys_balance = int(np.abs(lys_balance) < 1e-6)\n",
    "    met_balance = x1_ss_i[met_ex_idx][0][0] * biomass_ss_i[0] + x2_ss_i[met_ex_idx][0][0] * biomass_ss_i[1] + x3_ss_i[met_ex_idx][0][0] * biomass_ss_i[2] + x4_ss_i[met_ex_idx][0][0] * biomass_ss_i[3]\n",
    "    met_balance = int(np.abs(met_balance) < 1e-6)\n",
    "    phe_balance = x1_ss_i[phe_ex_idx][0][0] * biomass_ss_i[0] + x2_ss_i[phe_ex_idx][0][0] * biomass_ss_i[1] + x3_ss_i[phe_ex_idx][0][0] * biomass_ss_i[2] + x4_ss_i[phe_ex_idx][0][0] * biomass_ss_i[3]\n",
    "    phe_balance = int(np.abs(phe_balance) < 1e-6)\n",
    "    exhausted_aux_mets_unstable.append(arg_balance + lys_balance + met_balance + phe_balance)\n",
    "\n",
    "    nonzero_rhs_idx = np.where(reaction_lb[lumen_reactions_idx.flatten()] != 0)[0]\n",
    "    active_rhs_idx = np.where(x1_ss_i[J1:][nonzero_rhs_idx] * biomass_ss_i[0] + x2_ss_i[J2:][nonzero_rhs_idx] * biomass_ss_i[1] + x3_ss_i[J3:][nonzero_rhs_idx] * biomass_ss_i[2] + x4_ss_i[J4:][nonzero_rhs_idx] * biomass_ss_i[3] - reaction_lb[lumen_reactions_idx.flatten()][nonzero_rhs_idx] <= 1e-6)[0]\n",
    "    limited_ex_resources_unstable.append(len(active_rhs_idx))\n",
    "\n",
    "    nonzero_reaction_lb_idx = np.where(reaction_lb[Ec1_reactions_idx.flatten()] != 0)[0]\n",
    "    active_lb = len(np.where(x1_ss_i[0:J1][nonzero_reaction_lb_idx] - reaction_lb[Ec1_reactions_idx.flatten()][nonzero_reaction_lb_idx] == 0)[0])\n",
    "    active_lb = active_lb + len(np.where(x2_ss_i[0:J2][nonzero_reaction_lb_idx] - reaction_lb[Ec2_reactions_idx.flatten()][nonzero_reaction_lb_idx] == 0)[0])\n",
    "    active_lb = active_lb + len(np.where(x3_ss_i[0:J3][nonzero_reaction_lb_idx] - reaction_lb[Ec3_reactions_idx.flatten()][nonzero_reaction_lb_idx] == 0)[0])\n",
    "    active_lb = active_lb + len(np.where(x4_ss_i[0:J4][nonzero_reaction_lb_idx] - reaction_lb[Ec4_reactions_idx.flatten()][nonzero_reaction_lb_idx] == 0)[0])\n",
    "    active_lb_unstable.append(active_lb)\n",
    "\n",
    "    nonzero_reaction_ub_idx = np.where(reaction_ub[Ec1_reactions_idx.flatten()] != 0)[0]\n",
    "    active_ub = len(np.where(reaction_ub[Ec1_reactions_idx.flatten()][nonzero_reaction_ub_idx] - x1_ss_i[0:J1][nonzero_reaction_ub_idx] == 0)[0])\n",
    "    active_ub = active_ub + len(np.where(reaction_ub[Ec2_reactions_idx.flatten()][nonzero_reaction_ub_idx] - x2_ss_i[0:J2][nonzero_reaction_ub_idx] == 0)[0])\n",
    "    active_ub = active_ub + len(np.where(reaction_ub[Ec3_reactions_idx.flatten()][nonzero_reaction_ub_idx] - x3_ss_i[0:J3][nonzero_reaction_ub_idx] == 0)[0])\n",
    "    active_ub = active_ub + len(np.where(reaction_ub[Ec4_reactions_idx.flatten()][nonzero_reaction_ub_idx] - x4_ss_i[0:J4][nonzero_reaction_ub_idx] == 0)[0])\n",
    "    active_ub_unstable.append(active_ub)\n",
    "    \n",
    "    \n",
    "\n",
    "\n"
   ]
  },
  {
   "cell_type": "markdown",
   "id": "4bb87891-16e1-4174-b89a-c5bd05249e2d",
   "metadata": {},
   "source": [
    "Compare stable steady states 2 and 3, and the SteadyCom solution.\n"
   ]
  },
  {
   "cell_type": "code",
   "execution_count": 13,
   "id": "b1a25c67-d879-483a-92ad-a2a704049fea",
   "metadata": {},
   "outputs": [],
   "source": [
    "ss2 = stable_steady_states[1]\n",
    "ss3 = stable_steady_states[2]\n"
   ]
  },
  {
   "cell_type": "code",
   "execution_count": 14,
   "id": "aeaf2a70-02f9-43b5-8408-44becee648e3",
   "metadata": {
    "tags": []
   },
   "outputs": [],
   "source": [
    "biomass_ss2 = ss2[0]\n",
    "x1_ss2 = ss2[1]\n",
    "x2_ss2 = ss2[2]\n",
    "x3_ss2 = ss2[3]\n",
    "x4_ss2 = ss2[4]\n"
   ]
  },
  {
   "cell_type": "code",
   "execution_count": 15,
   "id": "df5ff1bd-710f-4f14-a6ce-2468da5accc8",
   "metadata": {},
   "outputs": [],
   "source": [
    "biomass_ss3 = ss3[0]\n",
    "x1_ss3 = ss3[1]\n",
    "x2_ss3 = ss3[2]\n",
    "x3_ss3 = ss3[3]\n",
    "x4_ss3 = ss3[4]\n"
   ]
  },
  {
   "cell_type": "code",
   "execution_count": 16,
   "id": "0c95fed2-1f09-4613-90bd-87ff51d39d0c",
   "metadata": {},
   "outputs": [],
   "source": [
    "biomass_steadycom = unstable_steady_states[-1][0]\n",
    "x1_steadycom = unstable_steady_states[-1][1]\n",
    "x2_steadycom = unstable_steady_states[-1][2]\n",
    "x3_steadycom = unstable_steady_states[-1][3]\n",
    "x4_steadycom = unstable_steady_states[-1][4]\n"
   ]
  },
  {
   "cell_type": "code",
   "execution_count": 17,
   "id": "9b4b703d-dc68-4015-b47e-89ee05714c1c",
   "metadata": {},
   "outputs": [],
   "source": [
    "arg_ex_idx = np.where(Ec1_reaction_names == 'Ec1IEX_arg__L[u]tr')[0]\n",
    "lys_ex_idx = np.where(Ec1_reaction_names == 'Ec1IEX_lys__L[u]tr')[0]\n",
    "met_ex_idx = np.where(Ec1_reaction_names == 'Ec1IEX_met__L[u]tr')[0]\n",
    "phe_ex_idx = np.where(Ec1_reaction_names == 'Ec1IEX_phe__L[u]tr')[0]\n"
   ]
  },
  {
   "cell_type": "code",
   "execution_count": 18,
   "id": "f38b4dac-96b8-4d9d-b3ee-1e541cf2c227",
   "metadata": {
    "tags": []
   },
   "outputs": [
    {
     "name": "stdout",
     "output_type": "stream",
     "text": [
      "arg exchange rate, Ec1 SS 2:  0.8558660667848594\n",
      "arg exchange rate, Ec2 SS 2:  -0.1479\n",
      "arg exchange rate, Ec3 SS 2:  -0.14790000000000003\n",
      "arg exchange rate, Ec4 SS 2:  0.0\n",
      "\n",
      "\n",
      "arg exchange rate, Ec1 SS 3:  0.09029057602326426\n",
      "arg exchange rate, Ec2 SS 3:  -0.14789999999999998\n",
      "arg exchange rate, Ec3 SS 3:  -0.14789999999999998\n",
      "arg exchange rate, Ec4 SS 3:  0.0\n",
      "\n",
      "\n",
      "arg exchange rate, Ec1 SteadyCom:  0.2975615691810667\n",
      "arg exchange rate, Ec2 SteadyCom:  -0.1479\n",
      "arg exchange rate, Ec3 SteadyCom:  -0.1479\n",
      "arg exchange rate, Ec4 SteadyCom:  0.0\n"
     ]
    }
   ],
   "source": [
    "print('arg exchange rate, Ec1 SS 2: ', x1_ss2[arg_ex_idx][0][0])\n",
    "print('arg exchange rate, Ec2 SS 2: ', x2_ss2[arg_ex_idx][0][0])\n",
    "print('arg exchange rate, Ec3 SS 2: ', x3_ss2[arg_ex_idx][0][0])\n",
    "print('arg exchange rate, Ec4 SS 2: ', x4_ss2[arg_ex_idx][0][0])\n",
    "print('\\n')\n",
    "print('arg exchange rate, Ec1 SS 3: ', x1_ss3[arg_ex_idx][0][0])\n",
    "print('arg exchange rate, Ec2 SS 3: ', x2_ss3[arg_ex_idx][0][0])\n",
    "print('arg exchange rate, Ec3 SS 3: ', x3_ss3[arg_ex_idx][0][0])\n",
    "print('arg exchange rate, Ec4 SS 3: ', x4_ss3[arg_ex_idx][0][0])\n",
    "print('\\n')\n",
    "print('arg exchange rate, Ec1 SteadyCom: ', x1_steadycom[arg_ex_idx][0][0])\n",
    "print('arg exchange rate, Ec2 SteadyCom: ', x2_steadycom[arg_ex_idx][0][0])\n",
    "print('arg exchange rate, Ec3 SteadyCom: ', x3_steadycom[arg_ex_idx][0][0])\n",
    "print('arg exchange rate, Ec4 SteadyCom: ', x4_steadycom[arg_ex_idx][0][0])\n",
    "\n"
   ]
  },
  {
   "cell_type": "code",
   "execution_count": 19,
   "id": "4863925f-11ec-413a-816b-a852fabb7d4e",
   "metadata": {
    "tags": []
   },
   "outputs": [
    {
     "name": "stdout",
     "output_type": "stream",
     "text": [
      "Net balance of arginine for steady state 2:  -1.3877787807814457e-17\n",
      "Net balance of arginine for steady state 3:  6.938893903907228e-18\n",
      "Net balance of arginine for SteadyCom steady state:  0.0\n"
     ]
    }
   ],
   "source": [
    "print('Net balance of arginine for steady state 2: ', x1_ss2[arg_ex_idx][0][0] * biomass_ss2[0] + x2_ss2[arg_ex_idx][0][0] * biomass_ss2[1] + x3_ss2[arg_ex_idx][0][0] * biomass_ss2[2] + x4_ss2[arg_ex_idx][0][0] * biomass_ss2[3])\n",
    "print('Net balance of arginine for steady state 3: ', x1_ss3[arg_ex_idx][0][0] * biomass_ss3[0] + x2_ss3[arg_ex_idx][0][0] * biomass_ss3[1] + x3_ss3[arg_ex_idx][0][0] * biomass_ss3[2] + x4_ss3[arg_ex_idx][0][0] * biomass_ss3[3])\n",
    "print('Net balance of arginine for SteadyCom steady state: ', x1_steadycom[arg_ex_idx][0][0] * biomass_steadycom[0] + x2_steadycom[arg_ex_idx][0][0] * biomass_steadycom[1] + x3_steadycom[arg_ex_idx][0][0] * biomass_steadycom[2] + x4_steadycom[arg_ex_idx][0][0] * biomass_steadycom[3])\n",
    "\n"
   ]
  },
  {
   "cell_type": "code",
   "execution_count": 20,
   "id": "c6db4b92-b491-483e-b92b-b2046278b93d",
   "metadata": {
    "tags": []
   },
   "outputs": [
    {
     "name": "stdout",
     "output_type": "stream",
     "text": [
      "phe exchange rate, Ec1 SS 2:  0.0\n",
      "phe exchange rate, Ec2 SS 2:  -0.08795000000000003\n",
      "phe exchange rate, Ec3 SS 2:  -0.08795000000000003\n",
      "phe exchange rate, Ec4 SS 2:  0.1158312944175439\n",
      "\n",
      "\n",
      "phe exchange rate, Ec1 SS 3:  0.0\n",
      "phe exchange rate, Ec2 SS 3:  -0.08795\n",
      "phe exchange rate, Ec3 SS 3:  -0.08795000000000001\n",
      "phe exchange rate, Ec4 SS 3:  0.2327976465523879\n",
      "\n",
      "\n",
      "phe exchange rate, Ec1 SteadyCom:  0.0\n",
      "phe exchange rate, Ec2 SteadyCom:  -0.08795\n",
      "phe exchange rate, Ec3 SteadyCom:  -0.08795\n",
      "phe exchange rate, Ec4 SteadyCom:  0.18903911447660646\n"
     ]
    }
   ],
   "source": [
    "print('phe exchange rate, Ec1 SS 2: ', x1_ss2[phe_ex_idx][0][0])\n",
    "print('phe exchange rate, Ec2 SS 2: ', x2_ss2[phe_ex_idx][0][0])\n",
    "print('phe exchange rate, Ec3 SS 2: ', x3_ss2[phe_ex_idx][0][0])\n",
    "print('phe exchange rate, Ec4 SS 2: ', x4_ss2[phe_ex_idx][0][0])\n",
    "print('\\n')\n",
    "print('phe exchange rate, Ec1 SS 3: ', x1_ss3[phe_ex_idx][0][0])\n",
    "print('phe exchange rate, Ec2 SS 3: ', x2_ss3[phe_ex_idx][0][0])\n",
    "print('phe exchange rate, Ec3 SS 3: ', x3_ss3[phe_ex_idx][0][0])\n",
    "print('phe exchange rate, Ec4 SS 3: ', x4_ss3[phe_ex_idx][0][0])\n",
    "print('\\n')\n",
    "print('phe exchange rate, Ec1 SteadyCom: ', x1_steadycom[phe_ex_idx][0][0])\n",
    "print('phe exchange rate, Ec2 SteadyCom: ', x2_steadycom[phe_ex_idx][0][0])\n",
    "print('phe exchange rate, Ec3 SteadyCom: ', x3_steadycom[phe_ex_idx][0][0])\n",
    "print('phe exchange rate, Ec4 SteadyCom: ', x4_steadycom[phe_ex_idx][0][0])\n"
   ]
  },
  {
   "cell_type": "code",
   "execution_count": 21,
   "id": "28d1c8e5-e3f5-432f-89a1-b980fc282c1d",
   "metadata": {
    "tags": []
   },
   "outputs": [
    {
     "name": "stdout",
     "output_type": "stream",
     "text": [
      "Net balance of phe for steady state 2:  -1.3877787807814457e-17\n",
      "Net balance of phe for steady state 3:  0.0\n",
      "Net balance of phe for SteadyCom steady state:  0.0\n"
     ]
    }
   ],
   "source": [
    "print('Net balance of phe for steady state 2: ', x1_ss2[phe_ex_idx][0][0] * biomass_ss2[0] + x2_ss2[phe_ex_idx][0][0] * biomass_ss2[1] + x3_ss2[phe_ex_idx][0][0] * biomass_ss2[2] + x4_ss2[phe_ex_idx][0][0] * biomass_ss2[3])\n",
    "print('Net balance of phe for steady state 3: ', x1_ss3[phe_ex_idx][0][0] * biomass_ss3[0] + x2_ss3[phe_ex_idx][0][0] * biomass_ss3[1] + x3_ss3[phe_ex_idx][0][0] * biomass_ss3[2] + x4_ss3[phe_ex_idx][0][0] * biomass_ss3[3])\n",
    "print('Net balance of phe for SteadyCom steady state: ', x1_steadycom[phe_ex_idx][0][0] * biomass_steadycom[0] + x2_steadycom[phe_ex_idx][0][0] * biomass_steadycom[1] + x3_steadycom[phe_ex_idx][0][0] * biomass_steadycom[2] + x4_steadycom[phe_ex_idx][0][0] * biomass_steadycom[3])\n"
   ]
  },
  {
   "cell_type": "code",
   "execution_count": 22,
   "id": "7e391d63-b6c9-47b7-bc81-073ef9e3b497",
   "metadata": {
    "tags": []
   },
   "outputs": [
    {
     "name": "stdout",
     "output_type": "stream",
     "text": [
      "met exchange rate, Ec1 SS 4:  -0.07696149999999999\n",
      "met exchange rate, Ec2 SS 4:  0.0\n",
      "met exchange rate, Ec3 SS 4:  0.11439283749805468\n",
      "met exchange rate, Ec4 SS 4:  -0.07696149998740429\n",
      "\n",
      "\n",
      "met exchange rate, Ec1 SS 5:  -0.07696149998894915\n",
      "met exchange rate, Ec2 SS 5:  0.0\n",
      "met exchange rate, Ec3 SS 5:  0.6087920976520504\n",
      "met exchange rate, Ec4 SS 5:  -0.0769615\n",
      "\n",
      "\n",
      "met exchange rate, Ec1 SteadyCom:  -0.0769615\n",
      "met exchange rate, Ec2 SteadyCom:  0.0\n",
      "met exchange rate, Ec3 SteadyCom:  0.20399692885439008\n",
      "met exchange rate, Ec4 SteadyCom:  -0.07696149999999997\n"
     ]
    }
   ],
   "source": [
    "print('met exchange rate, Ec1 SS 4: ', x1_ss2[met_ex_idx][0][0])\n",
    "print('met exchange rate, Ec2 SS 4: ', x2_ss2[met_ex_idx][0][0])\n",
    "print('met exchange rate, Ec3 SS 4: ', x3_ss2[met_ex_idx][0][0])\n",
    "print('met exchange rate, Ec4 SS 4: ', x4_ss2[met_ex_idx][0][0])\n",
    "print('\\n')\n",
    "print('met exchange rate, Ec1 SS 5: ', x1_ss3[met_ex_idx][0][0])\n",
    "print('met exchange rate, Ec2 SS 5: ', x2_ss3[met_ex_idx][0][0])\n",
    "print('met exchange rate, Ec3 SS 5: ', x3_ss3[met_ex_idx][0][0])\n",
    "print('met exchange rate, Ec4 SS 5: ', x4_ss3[met_ex_idx][0][0])\n",
    "print('\\n')\n",
    "print('met exchange rate, Ec1 SteadyCom: ', x1_steadycom[met_ex_idx][0][0])\n",
    "print('met exchange rate, Ec2 SteadyCom: ', x2_steadycom[met_ex_idx][0][0])\n",
    "print('met exchange rate, Ec3 SteadyCom: ', x3_steadycom[met_ex_idx][0][0])\n",
    "print('met exchange rate, Ec4 SteadyCom: ', x4_steadycom[met_ex_idx][0][0])\n"
   ]
  },
  {
   "cell_type": "code",
   "execution_count": 23,
   "id": "da9ff449-2b3d-48f6-adb6-0f66bbd9863f",
   "metadata": {
    "tags": []
   },
   "outputs": [
    {
     "name": "stdout",
     "output_type": "stream",
     "text": [
      "Net balance of met for steady state 2:  7.342196295390124e-12\n",
      "Net balance of met for steady state 3:  8.698101267023972e-12\n",
      "Net balance of met for SteadyCom steady state:  6.938893903907228e-18\n"
     ]
    }
   ],
   "source": [
    "print('Net balance of met for steady state 2: ', x1_ss2[met_ex_idx][0][0] * biomass_ss2[0] + x2_ss2[met_ex_idx][0][0] * biomass_ss2[1] + x3_ss2[met_ex_idx][0][0] * biomass_ss2[2] + x4_ss2[met_ex_idx][0][0] * biomass_ss2[3])\n",
    "print('Net balance of met for steady state 3: ', x1_ss3[met_ex_idx][0][0] * biomass_ss3[0] + x2_ss3[met_ex_idx][0][0] * biomass_ss3[1] + x3_ss3[met_ex_idx][0][0] * biomass_ss3[2] + x4_ss3[met_ex_idx][0][0] * biomass_ss3[3])\n",
    "print('Net balance of met for SteadyCom steady state: ', x1_steadycom[met_ex_idx][0][0] * biomass_steadycom[0] + x2_steadycom[met_ex_idx][0][0] * biomass_steadycom[1] + x3_steadycom[met_ex_idx][0][0] * biomass_steadycom[2] + x4_steadycom[met_ex_idx][0][0] * biomass_steadycom[3])\n"
   ]
  },
  {
   "cell_type": "code",
   "execution_count": 24,
   "id": "3be17d94-3c11-44c0-9205-d9622cfe9fe7",
   "metadata": {
    "tags": []
   },
   "outputs": [
    {
     "name": "stdout",
     "output_type": "stream",
     "text": [
      "lys exchange rate, Ec1 SS 4:  -0.17159999999999997\n",
      "lys exchange rate, Ec2 SS 4:  0.42893330397606694\n",
      "lys exchange rate, Ec3 SS 4:  0.0\n",
      "lys exchange rate, Ec4 SS 4:  -0.1716\n",
      "\n",
      "\n",
      "lys exchange rate, Ec1 SS 5:  -0.17159999997536005\n",
      "lys exchange rate, Ec2 SS 5:  0.4642175835550381\n",
      "lys exchange rate, Ec3 SS 5:  0.0\n",
      "lys exchange rate, Ec4 SS 5:  -0.1716\n",
      "\n",
      "\n",
      "lys exchange rate, Ec1 SteadyCom:  -0.1716\n",
      "lys exchange rate, Ec2 SteadyCom:  0.25924488871490986\n",
      "lys exchange rate, Ec3 SteadyCom:  0.0\n",
      "lys exchange rate, Ec4 SteadyCom:  -0.1716\n"
     ]
    }
   ],
   "source": [
    "print('lys exchange rate, Ec1 SS 4: ', x1_ss2[lys_ex_idx][0][0])\n",
    "print('lys exchange rate, Ec2 SS 4: ', x2_ss2[lys_ex_idx][0][0])\n",
    "print('lys exchange rate, Ec3 SS 4: ', x3_ss2[lys_ex_idx][0][0])\n",
    "print('lys exchange rate, Ec4 SS 4: ', x4_ss2[lys_ex_idx][0][0])\n",
    "print('\\n')\n",
    "print('lys exchange rate, Ec1 SS 5: ', x1_ss3[lys_ex_idx][0][0])\n",
    "print('lys exchange rate, Ec2 SS 5: ', x2_ss3[lys_ex_idx][0][0])\n",
    "print('lys exchange rate, Ec3 SS 5: ', x3_ss3[lys_ex_idx][0][0])\n",
    "print('lys exchange rate, Ec4 SS 5: ', x4_ss3[lys_ex_idx][0][0])\n",
    "print('\\n')\n",
    "print('lys exchange rate, Ec1 SteadyCom: ', x1_steadycom[lys_ex_idx][0][0])\n",
    "print('lys exchange rate, Ec2 SteadyCom: ', x2_steadycom[lys_ex_idx][0][0])\n",
    "print('lys exchange rate, Ec3 SteadyCom: ', x3_steadycom[lys_ex_idx][0][0])\n",
    "print('lys exchange rate, Ec4 SteadyCom: ', x4_steadycom[lys_ex_idx][0][0])\n"
   ]
  },
  {
   "cell_type": "code",
   "execution_count": null,
   "id": "b16daf01-6017-4a25-bd24-46c178acb3f9",
   "metadata": {
    "tags": []
   },
   "outputs": [],
   "source": [
    "print('Net balance of lys for steady state 2: ', x1_ss2[lys_ex_idx][0][0] * biomass_ss2[0] + x2_ss2[lys_ex_idx][0][0] * biomass_ss2[1] + x3_ss2[lys_ex_idx][0][0] * biomass_ss2[2] + x4_ss2[lys_ex_idx][0][0] * biomass_ss2[3])\n",
    "print('Net balance of lys for steady state 3: ', x1_ss3[lys_ex_idx][0][0] * biomass_ss3[0] + x2_ss3[lys_ex_idx][0][0] * biomass_ss3[1] + x3_ss3[lys_ex_idx][0][0] * biomass_ss3[2] + x4_ss3[lys_ex_idx][0][0] * biomass_ss3[3])\n",
    "print('Net balance of lys for SteadyCom steady state: ', x1_steadycom[lys_ex_idx][0][0] * biomass_steadycom[0] + x2_steadycom[lys_ex_idx][0][0] * biomass_steadycom[1] + x3_steadycom[lys_ex_idx][0][0] * biomass_steadycom[2] + x4_steadycom[lys_ex_idx][0][0] * biomass_steadycom[3])\n"
   ]
  },
  {
   "cell_type": "code",
   "execution_count": null,
   "id": "5c3b62a2-4dcc-43b0-a69a-4b11fc99710d",
   "metadata": {},
   "outputs": [],
   "source": []
  },
  {
   "cell_type": "code",
   "execution_count": null,
   "id": "c684c74f-ef42-416d-9fa6-000ef461d36d",
   "metadata": {},
   "outputs": [],
   "source": [
    "nonzero_rhs_idx = np.where(reaction_lb[lumen_reactions_idx.flatten()] != 0)[0]\n"
   ]
  },
  {
   "cell_type": "code",
   "execution_count": null,
   "id": "df2ed8fe-f3fb-4d6b-8575-27116d117275",
   "metadata": {
    "tags": []
   },
   "outputs": [],
   "source": [
    "print('Number of active right-hand side constraints, steady state 2: ', len(np.where(x1_ss2[J1:][nonzero_rhs_idx] * biomass_ss2[0] + x2_ss2[J2:][nonzero_rhs_idx] * biomass_ss2[1] + x3_ss2[J3:][nonzero_rhs_idx] * biomass_ss2[2] + x4_ss2[J4:][nonzero_rhs_idx] * biomass_ss2[3] - reaction_lb[lumen_reactions_idx.flatten()][nonzero_rhs_idx] <= 1e-6)[0]))\n",
    "print('Number of active right-hand side constraints, steady state 3: ', len(np.where(x1_ss3[J1:][nonzero_rhs_idx] * biomass_ss3[0] + x2_ss3[J2:][nonzero_rhs_idx] * biomass_ss3[1] + x3_ss3[J3:][nonzero_rhs_idx] * biomass_ss3[2] + x4_ss3[J4:][nonzero_rhs_idx] * biomass_ss3[3] - reaction_lb[lumen_reactions_idx.flatten()][nonzero_rhs_idx] <= 1e-6)[0]))\n",
    "print('Number of active right-hand side constraints, SteadyCom steady state: ', len(np.where(x1_steadycom[J1:][nonzero_rhs_idx] * biomass_steadycom[0] + x2_steadycom[J2:][nonzero_rhs_idx] * biomass_steadycom[1] + x3_steadycom[J3:][nonzero_rhs_idx] * biomass_steadycom[2] + x4_steadycom[J4:][nonzero_rhs_idx] * biomass_steadycom[3] - reaction_lb[lumen_reactions_idx.flatten()][nonzero_rhs_idx] <= 1e-6)[0]))\n",
    "\n"
   ]
  },
  {
   "cell_type": "code",
   "execution_count": null,
   "id": "08ffe940-c7ac-4667-84ac-2b27dc33f457",
   "metadata": {
    "tags": []
   },
   "outputs": [],
   "source": [
    "active_rhs_ss2_idx = np.where(x1_ss2[J1:][nonzero_rhs_idx] * biomass_ss2[0] + x2_ss2[J2:][nonzero_rhs_idx] * biomass_ss2[1] + x3_ss2[J3:][nonzero_rhs_idx] * biomass_ss2[2] + x4_ss2[J4:][nonzero_rhs_idx] * biomass_ss2[3] - reaction_lb[lumen_reactions_idx.flatten()][nonzero_rhs_idx] <= 1e-6)[0]\n",
    "active_rhs_ss3_idx = np.where(x1_ss3[J1:][nonzero_rhs_idx] * biomass_ss3[0] + x2_ss3[J2:][nonzero_rhs_idx] * biomass_ss3[1] + x3_ss3[J3:][nonzero_rhs_idx] * biomass_ss3[2] + x4_ss3[J4:][nonzero_rhs_idx] * biomass_ss3[3] - reaction_lb[lumen_reactions_idx.flatten()][nonzero_rhs_idx] <= 1e-6)[0]\n",
    "active_rhs_steadycom_idx = np.where(x1_steadycom[J1:][nonzero_rhs_idx] * biomass_steadycom[0] + x2_steadycom[J2:][nonzero_rhs_idx] * biomass_steadycom[1] + x3_steadycom[J3:][nonzero_rhs_idx] * biomass_steadycom[2] + x4_steadycom[J4:][nonzero_rhs_idx] * biomass_steadycom[3] - reaction_lb[lumen_reactions_idx.flatten()][nonzero_rhs_idx] <= 1e-6)[0]\n",
    "if len(active_rhs_ss2_idx) > 0:\n",
    "    print('Active met exchange constraint, steady state 2: ', lumen_reaction_names[nonzero_rhs_idx][active_rhs_ss2_idx][0])\n",
    "if len(active_rhs_ss3_idx) > 0:\n",
    "    print('Active met exchange constraint, steady state 3: ', lumen_reaction_names[nonzero_rhs_idx][active_rhs_ss3_idx][0])\n",
    "if len(active_rhs_steadycom_idx) > 0:\n",
    "    print('Active met exchange constraint, steadycom: ', lumen_reaction_names[nonzero_rhs_idx][active_rhs_steadycom_idx][0])\n",
    "\n",
    "    "
   ]
  },
  {
   "cell_type": "code",
   "execution_count": null,
   "id": "6d8f5c7f-9f4f-484a-a949-61717f9a8743",
   "metadata": {},
   "outputs": [],
   "source": [
    "nonzero_reaction_lb_idx = np.where(reaction_lb[Ec1_reactions_idx.flatten()] != 0)[0]\n",
    "nonzero_reaction_ub_idx = np.where(reaction_ub[Ec1_reactions_idx.flatten()] != 0)[0]\n"
   ]
  },
  {
   "cell_type": "code",
   "execution_count": null,
   "id": "3656406b-fe8c-4d5c-871c-e541db374e4f",
   "metadata": {
    "tags": []
   },
   "outputs": [],
   "source": [
    "print('Number of active reaction lb constraints, steady state 2 Ec1: ', len(np.where(x1_ss2[0:J1][nonzero_reaction_lb_idx] - reaction_lb[Ec1_reactions_idx.flatten()][nonzero_reaction_lb_idx] == 0)[0]))\n",
    "print('Number of active reaction lb constraints, steady state 2 Ec2: ', len(np.where(x2_ss2[0:J2][nonzero_reaction_lb_idx] - reaction_lb[Ec2_reactions_idx.flatten()][nonzero_reaction_lb_idx] == 0)[0]))\n",
    "print('Number of active reaction lb constraints, steady state 2 Ec3: ', len(np.where(x3_ss2[0:J3][nonzero_reaction_lb_idx] - reaction_lb[Ec3_reactions_idx.flatten()][nonzero_reaction_lb_idx] == 0)[0]))\n",
    "print('Number of active reaction lb constraints, steady state 2 Ec4: ', len(np.where(x4_ss2[0:J4][nonzero_reaction_lb_idx] - reaction_lb[Ec4_reactions_idx.flatten()][nonzero_reaction_lb_idx] == 0)[0]))\n",
    "print('\\n')\n",
    "print('Number of active reaction lb constraints, steady state 3 Ec1: ', len(np.where(x1_ss3[0:J1][nonzero_reaction_lb_idx] - reaction_lb[Ec1_reactions_idx.flatten()][nonzero_reaction_lb_idx] == 0)[0]))\n",
    "print('Number of active reaction lb constraints, steady state 3 Ec2: ', len(np.where(x2_ss3[0:J2][nonzero_reaction_lb_idx] - reaction_lb[Ec2_reactions_idx.flatten()][nonzero_reaction_lb_idx] == 0)[0]))\n",
    "print('Number of active reaction lb constraints, steady state 3 Ec3: ', len(np.where(x3_ss3[0:J3][nonzero_reaction_lb_idx] - reaction_lb[Ec3_reactions_idx.flatten()][nonzero_reaction_lb_idx] == 0)[0]))\n",
    "print('Number of active reaction lb constraints, steady state 3 Ec4: ', len(np.where(x4_ss3[0:J4][nonzero_reaction_lb_idx] - reaction_lb[Ec4_reactions_idx.flatten()][nonzero_reaction_lb_idx] == 0)[0]))\n",
    "print('\\n')\n",
    "print('Number of active reaction lb constraints, SteadyCom steady state Ec1: ', len(np.where(x1_steadycom[0:J1][nonzero_reaction_lb_idx] - reaction_lb[Ec1_reactions_idx.flatten()][nonzero_reaction_lb_idx] == 0)[0]))\n",
    "print('Number of active reaction lb constraints, SteadyCom steady state Ec2: ', len(np.where(x2_steadycom[0:J2][nonzero_reaction_lb_idx] - reaction_lb[Ec2_reactions_idx.flatten()][nonzero_reaction_lb_idx] == 0)[0]))\n",
    "print('Number of active reaction lb constraints, SteadyCom steady state Ec3: ', len(np.where(x3_steadycom[0:J3][nonzero_reaction_lb_idx] - reaction_lb[Ec3_reactions_idx.flatten()][nonzero_reaction_lb_idx] == 0)[0]))\n",
    "print('Number of active reaction lb constraints, SteadyCom steady state Ec4: ', len(np.where(x4_steadycom[0:J4][nonzero_reaction_lb_idx] - reaction_lb[Ec4_reactions_idx.flatten()][nonzero_reaction_lb_idx] == 0)[0]))\n",
    "\n"
   ]
  },
  {
   "cell_type": "code",
   "execution_count": null,
   "id": "cf2fc9d8-bb4a-488e-aef0-4217fcc27c12",
   "metadata": {
    "collapsed": true,
    "jupyter": {
     "outputs_hidden": true
    },
    "tags": []
   },
   "outputs": [],
   "source": [
    "active_lb_ss2_Ec1_idx = np.where(x1_ss2[0:J1][nonzero_reaction_lb_idx] - reaction_lb[Ec1_reactions_idx.flatten()][nonzero_reaction_lb_idx] == 0)[0]\n",
    "active_lb_ss2_Ec2_idx = np.where(x2_ss2[0:J2][nonzero_reaction_lb_idx] - reaction_lb[Ec2_reactions_idx.flatten()][nonzero_reaction_lb_idx] == 0)[0]\n",
    "active_lb_ss2_Ec3_idx = np.where(x3_ss2[0:J3][nonzero_reaction_lb_idx] - reaction_lb[Ec3_reactions_idx.flatten()][nonzero_reaction_lb_idx] == 0)[0]\n",
    "active_lb_ss2_Ec4_idx = np.where(x4_ss2[0:J4][nonzero_reaction_lb_idx] - reaction_lb[Ec4_reactions_idx.flatten()][nonzero_reaction_lb_idx] == 0)[0]\n",
    "\n",
    "print('Active reaction lb constraints, steady state 2 Ec1: ', Ec1_reaction_names[0:J1][nonzero_reaction_lb_idx][active_lb_ss2_Ec1_idx])\n",
    "print('Active reaction lb constraints, steady state 2 Ec2: ', Ec2_reaction_names[0:J2][nonzero_reaction_lb_idx][active_lb_ss2_Ec2_idx])\n",
    "print('Active reaction lb constraints, steady state 2 Ec3: ', Ec3_reaction_names[0:J3][nonzero_reaction_lb_idx][active_lb_ss2_Ec3_idx])\n",
    "print('Active reaction lb constraints, steady state 2 Ec4: ', Ec4_reaction_names[0:J4][nonzero_reaction_lb_idx][active_lb_ss2_Ec4_idx])\n",
    "print('\\n')\n",
    "\n",
    "active_lb_ss3_Ec1_idx = np.where(x1_ss3[0:J1][nonzero_reaction_lb_idx] - reaction_lb[Ec1_reactions_idx.flatten()][nonzero_reaction_lb_idx] == 0)[0]\n",
    "active_lb_ss3_Ec2_idx = np.where(x2_ss3[0:J2][nonzero_reaction_lb_idx] - reaction_lb[Ec2_reactions_idx.flatten()][nonzero_reaction_lb_idx] == 0)[0]\n",
    "active_lb_ss3_Ec3_idx = np.where(x3_ss3[0:J3][nonzero_reaction_lb_idx] - reaction_lb[Ec3_reactions_idx.flatten()][nonzero_reaction_lb_idx] == 0)[0]\n",
    "active_lb_ss3_Ec4_idx = np.where(x4_ss3[0:J4][nonzero_reaction_lb_idx] - reaction_lb[Ec4_reactions_idx.flatten()][nonzero_reaction_lb_idx] == 0)[0]\n",
    "\n",
    "print('Active reaction lb constraints, steady state 3 Ec1: ', Ec1_reaction_names[0:J1][nonzero_reaction_lb_idx][active_lb_ss3_Ec1_idx])\n",
    "print('Active reaction lb constraints, steady state 3 Ec2: ', Ec2_reaction_names[0:J2][nonzero_reaction_lb_idx][active_lb_ss3_Ec2_idx])\n",
    "print('Active reaction lb constraints, steady state 3 Ec3: ', Ec3_reaction_names[0:J3][nonzero_reaction_lb_idx][active_lb_ss3_Ec3_idx])\n",
    "print('Active reaction lb constraints, steady state 3 Ec4: ', Ec4_reaction_names[0:J4][nonzero_reaction_lb_idx][active_lb_ss3_Ec4_idx])\n",
    "print('\\n')\n",
    "\n",
    "active_lb_steadycom_Ec1_idx = np.where(x1_steadycom[0:J1][nonzero_reaction_lb_idx] - reaction_lb[Ec1_reactions_idx.flatten()][nonzero_reaction_lb_idx] == 0)[0]\n",
    "active_lb_steadycom_Ec2_idx = np.where(x2_steadycom[0:J2][nonzero_reaction_lb_idx] - reaction_lb[Ec2_reactions_idx.flatten()][nonzero_reaction_lb_idx] == 0)[0]\n",
    "active_lb_steadycom_Ec3_idx = np.where(x3_steadycom[0:J3][nonzero_reaction_lb_idx] - reaction_lb[Ec3_reactions_idx.flatten()][nonzero_reaction_lb_idx] == 0)[0]\n",
    "active_lb_steadycom_Ec4_idx = np.where(x4_steadycom[0:J4][nonzero_reaction_lb_idx] - reaction_lb[Ec4_reactions_idx.flatten()][nonzero_reaction_lb_idx] == 0)[0]\n",
    "\n",
    "print('Active reaction lb constraints, SteadyCom steady state Ec1: ', Ec1_reaction_names[0:J1][nonzero_reaction_lb_idx][active_lb_steadycom_Ec1_idx])\n",
    "print('Active reaction lb constraints, SteadyCom steady state Ec2: ', Ec2_reaction_names[0:J2][nonzero_reaction_lb_idx][active_lb_steadycom_Ec2_idx])\n",
    "print('Active reaction lb constraints, SteadyCom steady state Ec3: ', Ec3_reaction_names[0:J3][nonzero_reaction_lb_idx][active_lb_steadycom_Ec3_idx])\n",
    "print('Active reaction lb constraints, SteadyCom steady state Ec4: ', Ec4_reaction_names[0:J4][nonzero_reaction_lb_idx][active_lb_steadycom_Ec4_idx])\n",
    "print('\\n')\n"
   ]
  },
  {
   "cell_type": "code",
   "execution_count": null,
   "id": "bbf7fb7e-9bed-440e-96eb-3f47d1f7dad6",
   "metadata": {},
   "outputs": [],
   "source": []
  },
  {
   "cell_type": "code",
   "execution_count": null,
   "id": "2a724471-6b42-4a58-b9f7-c516b82e9386",
   "metadata": {
    "tags": []
   },
   "outputs": [],
   "source": [
    "print('Number of active reaction ub constraints, steady state 2 Ec1: ', len(np.where(reaction_ub[Ec1_reactions_idx.flatten()][nonzero_reaction_ub_idx] - x1_ss2[0:J1][nonzero_reaction_ub_idx] == 0)[0]))\n",
    "print('Number of active reaction ub constraints, steady state 2 Ec2: ', len(np.where(reaction_ub[Ec2_reactions_idx.flatten()][nonzero_reaction_ub_idx] - x2_ss2[0:J2][nonzero_reaction_ub_idx] == 0)[0]))\n",
    "print('Number of active reaction ub constraints, steady state 2 Ec3: ', len(np.where(reaction_ub[Ec3_reactions_idx.flatten()][nonzero_reaction_ub_idx] - x3_ss2[0:J3][nonzero_reaction_ub_idx] == 0)[0]))\n",
    "print('Number of active reaction ub constraints, steady state 2 Ec4: ', len(np.where(reaction_ub[Ec4_reactions_idx.flatten()][nonzero_reaction_ub_idx] - x4_ss2[0:J4][nonzero_reaction_ub_idx] == 0)[0]))\n",
    "print('\\n')\n",
    "print('Number of active reaction ub constraints, steady state 3 Ec1: ', len(np.where(reaction_ub[Ec1_reactions_idx.flatten()][nonzero_reaction_ub_idx] - x1_ss3[0:J1][nonzero_reaction_ub_idx] == 0)[0]))\n",
    "print('Number of active reaction ub constraints, steady state 3 Ec2: ', len(np.where(reaction_ub[Ec2_reactions_idx.flatten()][nonzero_reaction_ub_idx] - x2_ss3[0:J2][nonzero_reaction_ub_idx] == 0)[0]))\n",
    "print('Number of active reaction ub constraints, steady state 3 Ec3: ', len(np.where(reaction_ub[Ec3_reactions_idx.flatten()][nonzero_reaction_ub_idx] - x3_ss3[0:J3][nonzero_reaction_ub_idx] == 0)[0]))\n",
    "print('Number of active reaction ub constraints, steady state 3 Ec4: ', len(np.where(reaction_ub[Ec4_reactions_idx.flatten()][nonzero_reaction_ub_idx] - x4_ss3[0:J4][nonzero_reaction_ub_idx] == 0)[0]))\n",
    "print('\\n')\n",
    "print('Number of active reaction ub constraints, SteadyCom steady state Ec1: ', len(np.where(reaction_ub[Ec1_reactions_idx.flatten()][nonzero_reaction_ub_idx] - x1_steadycom[0:J1][nonzero_reaction_ub_idx] == 0)[0]))\n",
    "print('Number of active reaction ub constraints, SteadyCom steady state Ec2: ', len(np.where(reaction_ub[Ec2_reactions_idx.flatten()][nonzero_reaction_ub_idx] - x2_steadycom[0:J2][nonzero_reaction_ub_idx] == 0)[0]))\n",
    "print('Number of active reaction ub constraints, SteadyCom steady state Ec3: ', len(np.where(reaction_ub[Ec3_reactions_idx.flatten()][nonzero_reaction_ub_idx] - x3_steadycom[0:J3][nonzero_reaction_ub_idx] == 0)[0]))\n",
    "print('Number of active reaction ub constraints, SteadyCom steady state Ec4: ', len(np.where(reaction_ub[Ec4_reactions_idx.flatten()][nonzero_reaction_ub_idx] - x4_steadycom[0:J4][nonzero_reaction_ub_idx] == 0)[0]))\n",
    "\n",
    "\n",
    "\n"
   ]
  },
  {
   "cell_type": "code",
   "execution_count": null,
   "id": "a7c6b149-9f04-4c64-8394-b7d3ef23f15f",
   "metadata": {},
   "outputs": [],
   "source": [
    "active_ub_steadycom_Ec2_idx"
   ]
  },
  {
   "cell_type": "code",
   "execution_count": null,
   "id": "c7b53a1d",
   "metadata": {},
   "outputs": [],
   "source": [
    "active_lb_steadycom_Ec2_idx"
   ]
  },
  {
   "cell_type": "code",
   "execution_count": null,
   "id": "0b55c2a0",
   "metadata": {},
   "outputs": [],
   "source": [
    "active_rhs_steadycom_idx"
   ]
  },
  {
   "cell_type": "code",
   "execution_count": null,
   "id": "77e24ca4",
   "metadata": {},
   "outputs": [],
   "source": [
    "yada = S[:, Ec2_reactions_idx.flatten()]\n",
    "print(np.where(yada[:,320].toarray() != 0))\n",
    "print(np.where(yada[2406,:].toarray() != 0))"
   ]
  },
  {
   "cell_type": "code",
   "execution_count": null,
   "id": "a2653afe-7314-4252-8fda-7b525e8d2066",
   "metadata": {
    "tags": []
   },
   "outputs": [],
   "source": [
    "active_ub_ss2_Ec1_idx = np.where(reaction_ub[Ec1_reactions_idx.flatten()][nonzero_reaction_ub_idx] - x1_ss2[0:J1][nonzero_reaction_ub_idx] == 0)[0]\n",
    "active_ub_ss2_Ec2_idx = np.where(reaction_ub[Ec2_reactions_idx.flatten()][nonzero_reaction_ub_idx] - x2_ss2[0:J2][nonzero_reaction_ub_idx] == 0)[0]\n",
    "active_ub_ss2_Ec3_idx = np.where(reaction_ub[Ec3_reactions_idx.flatten()][nonzero_reaction_ub_idx] - x3_ss2[0:J3][nonzero_reaction_ub_idx] == 0)[0]\n",
    "active_ub_ss2_Ec4_idx = np.where(reaction_ub[Ec4_reactions_idx.flatten()][nonzero_reaction_ub_idx] - x4_ss2[0:J4][nonzero_reaction_ub_idx] == 0)[0]\n",
    "\n",
    "print('Active reaction ub constraints, steady state 2 Ec1: ', Ec1_reaction_names[0:J1][nonzero_reaction_ub_idx][active_ub_ss2_Ec1_idx])\n",
    "print('Active reaction ub constraints, steady state 2 Ec2: ', Ec2_reaction_names[0:J2][nonzero_reaction_ub_idx][active_ub_ss2_Ec2_idx])\n",
    "print('Active reaction ub constraints, steady state 2 Ec3: ', Ec3_reaction_names[0:J3][nonzero_reaction_ub_idx][active_ub_ss2_Ec3_idx])\n",
    "print('Active reaction ub constraints, steady state 2 Ec4: ', Ec4_reaction_names[0:J4][nonzero_reaction_ub_idx][active_ub_ss2_Ec4_idx])\n",
    "print('\\n')\n",
    "\n",
    "active_ub_ss3_Ec1_idx = np.where(reaction_ub[Ec1_reactions_idx.flatten()][nonzero_reaction_ub_idx] - x1_ss3[0:J1][nonzero_reaction_ub_idx] == 0)[0]\n",
    "active_ub_ss3_Ec2_idx = np.where(reaction_ub[Ec2_reactions_idx.flatten()][nonzero_reaction_ub_idx] - x2_ss3[0:J2][nonzero_reaction_ub_idx] == 0)[0]\n",
    "active_ub_ss3_Ec3_idx = np.where(reaction_ub[Ec3_reactions_idx.flatten()][nonzero_reaction_ub_idx] - x3_ss3[0:J3][nonzero_reaction_ub_idx] == 0)[0]\n",
    "active_ub_ss3_Ec4_idx = np.where(reaction_ub[Ec4_reactions_idx.flatten()][nonzero_reaction_ub_idx] - x4_ss3[0:J4][nonzero_reaction_ub_idx] == 0)[0]\n",
    "\n",
    "print('Active reaction ub constraints, steady state 3 Ec1: ', Ec1_reaction_names[0:J1][nonzero_reaction_ub_idx][active_ub_ss3_Ec1_idx])\n",
    "print('Active reaction ub constraints, steady state 3 Ec2: ', Ec2_reaction_names[0:J2][nonzero_reaction_ub_idx][active_ub_ss3_Ec2_idx])\n",
    "print('Active reaction ub constraints, steady state 3 Ec3: ', Ec3_reaction_names[0:J3][nonzero_reaction_ub_idx][active_ub_ss3_Ec3_idx])\n",
    "print('Active reaction ub constraints, steady state 3 Ec4: ', Ec4_reaction_names[0:J4][nonzero_reaction_ub_idx][active_ub_ss3_Ec4_idx])\n",
    "print('\\n')\n",
    "\n",
    "active_ub_steadycom_Ec1_idx = np.where(reaction_ub[Ec1_reactions_idx.flatten()][nonzero_reaction_ub_idx] - x1_steadycom[0:J1][nonzero_reaction_ub_idx] == 0)[0]\n",
    "active_ub_steadycom_Ec2_idx = np.where(reaction_ub[Ec2_reactions_idx.flatten()][nonzero_reaction_ub_idx] - x2_steadycom[0:J2][nonzero_reaction_ub_idx] == 0)[0]\n",
    "active_ub_steadycom_Ec3_idx = np.where(reaction_ub[Ec3_reactions_idx.flatten()][nonzero_reaction_ub_idx] - x3_steadycom[0:J3][nonzero_reaction_ub_idx] == 0)[0]\n",
    "active_ub_steadycom_Ec4_idx = np.where(reaction_ub[Ec4_reactions_idx.flatten()][nonzero_reaction_ub_idx] - x4_steadycom[0:J4][nonzero_reaction_ub_idx] == 0)[0]\n",
    "\n",
    "print('Active reaction ub constraints, SteadyCom steady state Ec1: ', Ec1_reaction_names[0:J1][nonzero_reaction_ub_idx][active_ub_steadycom_Ec1_idx])\n",
    "print('Active reaction ub constraints, SteadyCom steady state Ec2: ', Ec2_reaction_names[0:J2][nonzero_reaction_ub_idx][active_ub_steadycom_Ec2_idx])\n",
    "print('Active reaction ub constraints, SteadyCom steady state Ec3: ', Ec3_reaction_names[0:J3][nonzero_reaction_ub_idx][active_ub_steadycom_Ec3_idx])\n",
    "print('Active reaction ub constraints, SteadyCom steady state Ec4: ', Ec4_reaction_names[0:J4][nonzero_reaction_ub_idx][active_ub_steadycom_Ec4_idx])\n",
    "print('\\n')\n",
    "\n"
   ]
  },
  {
   "cell_type": "code",
   "execution_count": null,
   "id": "0b78b1df-c438-4c6c-b90e-d48cf9d6e920",
   "metadata": {},
   "outputs": [],
   "source": []
  },
  {
   "cell_type": "code",
   "execution_count": null,
   "id": "f4966043-5063-4a5b-8ad6-bd32e3315a92",
   "metadata": {},
   "outputs": [],
   "source": []
  },
  {
   "cell_type": "code",
   "execution_count": null,
   "id": "072c23e5-471b-4aaf-97fa-89976d23041f",
   "metadata": {},
   "outputs": [],
   "source": []
  },
  {
   "cell_type": "code",
   "execution_count": null,
   "id": "3b15d13c-e908-40b1-af1e-a383d1fba24f",
   "metadata": {},
   "outputs": [],
   "source": []
  }
 ],
 "metadata": {
  "interpreter": {
   "hash": "8e32fce6a6c3fd48953af81f35dd8f0e6fbd7c4087b039bf734f43a70745cec5"
  },
  "kernelspec": {
   "display_name": "Python 3.8.8 ('base')",
   "language": "python",
   "name": "python3"
  },
  "language_info": {
   "codemirror_mode": {
    "name": "ipython",
    "version": 3
   },
   "file_extension": ".py",
   "mimetype": "text/x-python",
   "name": "python",
   "nbconvert_exporter": "python",
   "pygments_lexer": "ipython3",
   "version": "3.7.6"
  }
 },
 "nbformat": 4,
 "nbformat_minor": 5
}
