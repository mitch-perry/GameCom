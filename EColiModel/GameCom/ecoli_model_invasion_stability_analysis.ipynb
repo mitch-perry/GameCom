{
 "cells": [
  {
   "cell_type": "markdown",
   "id": "8cab6df7",
   "metadata": {},
   "source": [
    "Notebook for analyzing the stability of steady states to invasion.\n",
    "Includes code for generating Figures 2 (b) in the main text and 1 (b) in the SI.\n"
   ]
  },
  {
   "cell_type": "code",
   "execution_count": 1,
   "id": "03d25782-2920-4046-8e88-ccbb51aaa3d8",
   "metadata": {},
   "outputs": [],
   "source": [
    "import numpy as np\n",
    "import scipy.sparse as sparse\n",
    "import scipy.io as sio\n",
    "import pickle\n"
   ]
  },
  {
   "cell_type": "code",
   "execution_count": 2,
   "id": "2a79c666-442d-4b4a-8e3f-90605490eaac",
   "metadata": {},
   "outputs": [],
   "source": [
    "# Load data for model.\n",
    "directory = '../ModelFiles/FiveSpecies/'\n",
    "\n",
    "# S contains the stoichiometry matrices R_{k} and R_{k}^{ex} for each species k.\n",
    "S = sio.loadmat(directory + '/S.mat')['S']\n",
    "I = sio.loadmat(directory + '/I.mat')['I'][0][0]\n",
    "J = sio.loadmat(directory + '/J.mat')['J'][0][0]\n",
    "reaction_lb = sio.loadmat(directory + '/lb.mat')['lb']\n",
    "reaction_ub = sio.loadmat(directory + '/ub.mat')['ub']\n",
    "\n",
    "# Indices of reactions and metabolites for each species, needed because \n",
    "# cobra groups all metabolites and reactions into a single model.\n",
    "lumen_reactions_idx = sio.loadmat(directory + '/lumen_reactions_idx.mat')['lumen_reactions_idx'] - 1\n",
    "lumen_metabolites_idx = sio.loadmat(directory + '/lumen_metabolites_idx.mat')['lumen_metabolites_idx'] - 1\n",
    "lumen_reaction_names = sio.loadmat(directory + '/lumen_reactions.mat')['lumen_reactions']\n",
    "\n",
    "Ec1_reactions_idx = sio.loadmat(directory + '/Ec1_reactions_idx.mat')['Ec1_reactions_idx'] - 1\n",
    "Ec1_reaction_names = sio.loadmat(directory + '/Ec1_reactions.mat')['Ec1_reactions']\n",
    "Ec1_metabolites_idx = sio.loadmat(directory + '/Ec1_metabolites_idx.mat')['Ec1_metabolites_idx'] - 1\n",
    "Ec1_biomass_idx = sio.loadmat(directory + '/Ec1_biomass_idx.mat')['Ec1_biomass_idx'][0][0]-1\n",
    "\n",
    "Ec2_reactions_idx = sio.loadmat(directory + '/Ec2_reactions_idx.mat')['Ec2_reactions_idx'] - 1\n",
    "Ec2_reaction_names = sio.loadmat(directory + '/Ec2_reactions.mat')['Ec2_reactions']\n",
    "Ec2_metabolites_idx = sio.loadmat(directory + '/Ec2_metabolites_idx.mat')['Ec2_metabolites_idx'] - 1\n",
    "Ec2_biomass_idx = sio.loadmat(directory + '/Ec2_biomass_idx.mat')['Ec2_biomass_idx'][0][0]-1\n",
    "\n",
    "Ec3_reactions_idx = sio.loadmat(directory + '/Ec3_reactions_idx.mat')['Ec3_reactions_idx'] - 1\n",
    "Ec3_reaction_names = sio.loadmat(directory + '/Ec3_reactions.mat')['Ec3_reactions']\n",
    "Ec3_metabolites_idx = sio.loadmat(directory + '/Ec3_metabolites_idx.mat')['Ec3_metabolites_idx'] - 1\n",
    "Ec3_biomass_idx = sio.loadmat(directory + '/Ec3_biomass_idx.mat')['Ec3_biomass_idx'][0][0]-1\n",
    "\n",
    "Ec4_reactions_idx = sio.loadmat(directory + '/Ec4_reactions_idx.mat')['Ec4_reactions_idx'] - 1\n",
    "Ec4_reaction_names = sio.loadmat(directory + '/Ec4_reactions.mat')['Ec4_reactions']\n",
    "Ec4_metabolites_idx = sio.loadmat(directory + '/Ec4_metabolites_idx.mat')['Ec4_metabolites_idx'] - 1\n",
    "Ec4_biomass_idx = sio.loadmat(directory + '/Ec4_biomass_idx.mat')['Ec4_biomass_idx'][0][0]-1\n",
    "\n",
    "I1 = len(Ec1_metabolites_idx); I2 = len(Ec2_metabolites_idx); I3 = len(Ec3_metabolites_idx); I4 = len(Ec4_metabolites_idx)\n",
    "Jl = len(lumen_reactions_idx); J1 = len(Ec1_reactions_idx); J2 = len(Ec2_reactions_idx); J3 = len(Ec3_reactions_idx); J4 = len(Ec4_reactions_idx)\n",
    "\n",
    "Ec1_reaction_names = np.array([Ec1_reaction_names[i][0] for i in range(len(Ec1_reaction_names))])\n",
    "Ec2_reaction_names = np.array([Ec2_reaction_names[i][0] for i in range(len(Ec2_reaction_names))])\n",
    "Ec3_reaction_names = np.array([Ec3_reaction_names[i][0] for i in range(len(Ec3_reaction_names))])\n",
    "Ec4_reaction_names = np.array([Ec4_reaction_names[i][0] for i in range(len(Ec4_reaction_names))])\n",
    "lumen_reaction_names = np.array([lumen_reaction_names[i][0] for i in range(len(lumen_reaction_names))])\n",
    "\n",
    "# Create vectors that can be dotted with vector of reactions for each species \n",
    "# and pull out the biomass reaction.\n",
    "e1 = sparse.identity(J1 + Jl).tocsr()[:, Ec1_biomass_idx]; e2 = sparse.identity(J2 + Jl).tocsr()[:, Ec2_biomass_idx]\n",
    "e3 = sparse.identity(J3 + Jl).tocsr()[:, Ec3_biomass_idx]; e4 = sparse.identity(J4 + Jl).tocsr()[:, Ec4_biomass_idx]\n",
    "\n"
   ]
  },
  {
   "cell_type": "code",
   "execution_count": 3,
   "id": "4e961035-e844-4ae1-aff3-6f64bd018237",
   "metadata": {},
   "outputs": [],
   "source": [
    "death_rate = np.array([0.5])\n",
    "invaded_steady_states = pickle.load(open(\"invaded_steady_states.p\", \"rb\"))\n",
    "uninvaded_steady_states = pickle.load(open(\"uninvaded_steady_states.p\", \"rb\"))\n"
   ]
  },
  {
   "cell_type": "code",
   "execution_count": 4,
   "id": "153c94ab-60b0-414b-af4e-e726921d5a64",
   "metadata": {},
   "outputs": [
    {
     "name": "stdout",
     "output_type": "stream",
     "text": [
      "75\n",
      "333\n",
      "408\n"
     ]
    }
   ],
   "source": [
    "print(len(invaded_steady_states))\n",
    "print(len(uninvaded_steady_states))\n",
    "print(len(invaded_steady_states) + len(uninvaded_steady_states))\n"
   ]
  },
  {
   "cell_type": "code",
   "execution_count": 5,
   "id": "233a7e87-d14d-4cd0-b888-db8bc48eeb1f",
   "metadata": {},
   "outputs": [],
   "source": [
    "steady_states_bm = np.zeros((len(invaded_steady_states) + len(uninvaded_steady_states), 4))\n",
    "for i in range(len(invaded_steady_states)):\n",
    "    steady_states_bm[i,:] = invaded_steady_states[i][0]\n",
    "for i in range(len(uninvaded_steady_states)):\n",
    "    steady_states_bm[i+len(invaded_steady_states),:] = uninvaded_steady_states[i][0]\n",
    "    "
   ]
  },
  {
   "cell_type": "code",
   "execution_count": 6,
   "id": "492bf7af-48a1-434e-89de-f95c6c12dc6b",
   "metadata": {},
   "outputs": [
    {
     "data": {
      "text/plain": [
       "array([407])"
      ]
     },
     "execution_count": 6,
     "metadata": {},
     "output_type": "execute_result"
    }
   ],
   "source": [
    "# Find the SteadyCom solution.\n",
    "np.where(np.sum(steady_states_bm, axis = 1) == np.max(np.sum(steady_states_bm, axis = 1)))[0]\n"
   ]
  },
  {
   "cell_type": "code",
   "execution_count": 8,
   "id": "cb1f805f-3e33-4fe0-adf0-79297f0f4174",
   "metadata": {},
   "outputs": [],
   "source": [
    "bm1, bm2, bm3, bm4 = steady_states_bm[407, :]\n"
   ]
  },
  {
   "cell_type": "code",
   "execution_count": 9,
   "id": "a6ea3788-8de4-4e81-8bf6-99b62c4b16cc",
   "metadata": {},
   "outputs": [
    {
     "data": {
      "text/plain": [
       "1.5392444744922371"
      ]
     },
     "execution_count": 9,
     "metadata": {},
     "output_type": "execute_result"
    }
   ],
   "source": [
    "bm1 + bm2 + bm3 + bm4"
   ]
  },
  {
   "cell_type": "code",
   "execution_count": 10,
   "id": "dfc60616-5ccd-450a-b3a3-68fdd8f27188",
   "metadata": {},
   "outputs": [],
   "source": [
    "import sklearn.cluster\n"
   ]
  },
  {
   "cell_type": "code",
   "execution_count": 11,
   "id": "b3cb096c-7a45-4f0b-98e8-9f697a69225b",
   "metadata": {},
   "outputs": [],
   "source": [
    "kmeans = sklearn.cluster.KMeans(n_clusters = 20)\n",
    "clusters = kmeans.fit_predict(steady_states_bm[len(invaded_steady_states):])\n",
    "yada = steady_states_bm[len(invaded_steady_states):, :]\n"
   ]
  },
  {
   "cell_type": "code",
   "execution_count": 12,
   "id": "a9af2c0e-c07c-4d98-8e3d-c2cc6902178d",
   "metadata": {},
   "outputs": [],
   "source": [
    "means_cluster1 = np.mean(yada[clusters == 0], axis = 0)\n",
    "means_cluster2 = np.mean(yada[clusters == 1], axis = 0)\n",
    "means_cluster3 = np.mean(yada[clusters == 2], axis = 0)\n",
    "means_cluster4 = np.mean(yada[clusters == 3], axis = 0)\n",
    "means_cluster5 = np.mean(yada[clusters == 4], axis = 0)\n",
    "means_cluster6 = np.mean(yada[clusters == 5], axis = 0)\n",
    "means_cluster7 = np.mean(yada[clusters == 6], axis = 0)\n",
    "means_cluster8 = np.mean(yada[clusters == 7], axis = 0)\n",
    "means_cluster9 = np.mean(yada[clusters == 8], axis = 0)\n",
    "means_cluster10 = np.mean(yada[clusters == 9], axis = 0)\n",
    "means_cluster11 = np.mean(yada[clusters == 10], axis = 0)\n",
    "means_cluster12 = np.mean(yada[clusters == 11], axis = 0)\n",
    "means_cluster13 = np.mean(yada[clusters == 12], axis = 0)\n",
    "means_cluster14 = np.mean(yada[clusters == 13], axis = 0)\n",
    "means_cluster15 = np.mean(yada[clusters == 14], axis = 0)\n",
    "means_cluster16 = np.mean(yada[clusters == 15], axis = 0)\n",
    "means_cluster17 = np.mean(yada[clusters == 16], axis = 0)\n",
    "means_cluster18 = np.mean(yada[clusters == 17], axis = 0)\n",
    "means_cluster19 = np.mean(yada[clusters == 18], axis = 0)\n",
    "means_cluster20 = np.mean(yada[clusters == 19], axis = 0)\n"
   ]
  },
  {
   "cell_type": "code",
   "execution_count": 13,
   "id": "397f5578-96e4-4ec0-83d6-1780bbb21fe4",
   "metadata": {},
   "outputs": [
    {
     "data": {
      "image/png": "[encoded data removed]",
      "text/plain": [
       "<Figure size 792x432 with 2 Axes>"
      ]
     },
     "metadata": {},
     "output_type": "display_data"
    }
   ],
   "source": [
    "import matplotlib.pyplot as plt\n",
    "import seaborn as sns\n",
    "plt.style.use('ggplot')\n",
    "labels = ['Steady \\n Com', '1', '2', '3', '4', '5', '6', '7', '8', '9', '10', '11', '12', '13', '14', '15', '16', '17', '18', '19', '20']\n",
    "bm1_vals = [bm1, means_cluster1[0], means_cluster2[0], means_cluster3[0], means_cluster4[0], means_cluster5[0], means_cluster6[0], means_cluster7[0], means_cluster8[0],\n",
    "           means_cluster9[0], means_cluster10[0], means_cluster11[0], means_cluster12[0], means_cluster13[0], means_cluster14[0], means_cluster15[0],\n",
    "           means_cluster16[0], means_cluster17[0], means_cluster18[0], means_cluster19[0], means_cluster20[0]]\n",
    "bm2_vals = [bm2, means_cluster1[1], means_cluster2[1], means_cluster3[1], means_cluster4[1], means_cluster5[1], means_cluster6[1], means_cluster7[1], means_cluster8[1],\n",
    "           means_cluster9[1], means_cluster10[1], means_cluster11[1], means_cluster12[1], means_cluster13[1], means_cluster14[1], means_cluster15[1],\n",
    "           means_cluster16[1], means_cluster17[1], means_cluster18[1], means_cluster19[1], means_cluster20[1]]\n",
    "bm3_vals = [bm1, means_cluster1[2], means_cluster2[2], means_cluster3[2], means_cluster4[2], means_cluster5[2], means_cluster6[2], means_cluster7[2], means_cluster8[2],\n",
    "           means_cluster9[2], means_cluster10[2], means_cluster11[2], means_cluster12[2], means_cluster13[2], means_cluster14[2], means_cluster15[2],\n",
    "           means_cluster16[2], means_cluster17[2], means_cluster18[2], means_cluster19[2], means_cluster20[2]]\n",
    "bm4_vals = [bm1, means_cluster1[3], means_cluster2[3], means_cluster3[3], means_cluster4[3], means_cluster5[3], means_cluster6[3], means_cluster7[3], means_cluster8[3],\n",
    "           means_cluster9[3], means_cluster10[3], means_cluster11[3], means_cluster12[3], means_cluster13[3], means_cluster14[3], means_cluster15[3],\n",
    "           means_cluster16[3], means_cluster17[3], means_cluster18[3], means_cluster19[3], means_cluster20[3]]\n",
    "\n",
    "width = 0.5\n",
    "\n",
    "plt.rcParams[\"figure.figsize\"] = (11,6)\n",
    "fig, ax = plt.subplots(1,2,gridspec_kw={\"width_ratios\": [1,4]})\n",
    "\n",
    "graph = sns.boxplot(data = [[np.sum(invaded_steady_states[i][0]) for i in range(len(invaded_steady_states))], [np.sum(uninvaded_steady_states[i][0]) for i in range(len(uninvaded_steady_states))]],\n",
    "                    orient='v', ax=ax[0])\n",
    "graph.axhline(bm1+bm2+bm3+bm4, color='black', linestyle = '--')\n",
    "graph.set(ylabel='Community Biomass')\n",
    "graph.set_xticklabels(['Unstable \\n steady \\n states', 'Stable \\n steady states'])\n",
    "\n",
    "ax[1].bar(labels, bm1_vals, width, label='Ec1')\n",
    "ax[1].bar(labels, bm2_vals, width, label='Ec2', bottom=bm1_vals)\n",
    "ax[1].bar(labels, bm3_vals, width, label='Ec3', bottom=[bm1_vals[i] + bm2_vals[i] for i in range(len(bm1_vals))])\n",
    "ax[1].bar(labels, bm4_vals, width, label='Ec4', bottom=[bm1_vals[i] + bm2_vals[i] + bm3_vals[i] for i in range(len(bm1_vals))])\n",
    "ax[1].set_ylabel('Biomass')\n",
    "ax[1].set_xlabel('Uninvaded steady state clusters')\n",
    "ax[1].legend(loc='center right')\n",
    "\n",
    "plt.style.use('ggplot')\n",
    "# plt.savefig('invasion_stab_death_rate.png', bbox_inches='tight')\n",
    "plt.show()\n",
    "\n",
    "\n"
   ]
  },
  {
   "cell_type": "markdown",
   "id": "bf06e804",
   "metadata": {},
   "source": [
    "Look more into the underlying chemical reactions for \n",
    "a couple of the steady states."
   ]
  },
  {
   "cell_type": "code",
   "execution_count": 14,
   "id": "c9f8a7cc-b81b-4bc9-87c6-11497ad14c33",
   "metadata": {},
   "outputs": [],
   "source": [
    "ss2 = uninvaded_steady_states[10]\n",
    "ss3 = uninvaded_steady_states[20]\n"
   ]
  },
  {
   "cell_type": "code",
   "execution_count": 15,
   "id": "6950fb1c-5de1-44c2-9beb-2d7d0074f0d8",
   "metadata": {},
   "outputs": [],
   "source": [
    "biomass_ss2 = ss2[0]\n",
    "x1_ss2 = ss2[1]\n",
    "x2_ss2 = ss2[2]\n",
    "x3_ss2 = ss2[3]\n",
    "x4_ss2 = ss2[4]\n"
   ]
  },
  {
   "cell_type": "code",
   "execution_count": 16,
   "id": "af88f499-477d-4eb4-829a-e3e448cbba97",
   "metadata": {},
   "outputs": [],
   "source": [
    "biomass_ss3 = ss3[0]\n",
    "x1_ss3 = ss3[1]\n",
    "x2_ss3 = ss3[2]\n",
    "x3_ss3 = ss3[3]\n",
    "x4_ss3 = ss3[4]\n"
   ]
  },
  {
   "cell_type": "code",
   "execution_count": 17,
   "id": "a91ea780-961b-4b9f-9826-cf7f5c7c1212",
   "metadata": {},
   "outputs": [],
   "source": [
    "biomass_steadycom = uninvaded_steady_states[-1][0]\n",
    "x1_steadycom = uninvaded_steady_states[-1][1]\n",
    "x2_steadycom = uninvaded_steady_states[-1][2]\n",
    "x3_steadycom = uninvaded_steady_states[-1][3]\n",
    "x4_steadycom = uninvaded_steady_states[-1][4]\n"
   ]
  },
  {
   "cell_type": "code",
   "execution_count": 18,
   "id": "37c3873a-44aa-4626-a89e-90405f9a80b4",
   "metadata": {},
   "outputs": [],
   "source": [
    "arg_ex_idx = np.where(Ec1_reaction_names == 'Ec1IEX_arg__L[u]tr')[0]\n",
    "lys_ex_idx = np.where(Ec1_reaction_names == 'Ec1IEX_lys__L[u]tr')[0]\n",
    "met_ex_idx = np.where(Ec1_reaction_names == 'Ec1IEX_met__L[u]tr')[0]\n",
    "phe_ex_idx = np.where(Ec1_reaction_names == 'Ec1IEX_phe__L[u]tr')[0]\n"
   ]
  },
  {
   "cell_type": "code",
   "execution_count": 19,
   "id": "84ed35bf-441d-4bcb-9912-213a3c600b42",
   "metadata": {},
   "outputs": [],
   "source": [
    "nonzero_rhs_idx = np.where(reaction_lb[lumen_reactions_idx.flatten()] != 0)[0]\n"
   ]
  },
  {
   "cell_type": "code",
   "execution_count": 20,
   "id": "544e0a9a-97ef-41f8-a51d-74303f6bc664",
   "metadata": {},
   "outputs": [
    {
     "name": "stdout",
     "output_type": "stream",
     "text": [
      "Number of active right-hand side constraints, steady state 2:  1\n",
      "Number of active right-hand side constraints, steady state 3:  2\n",
      "Number of active right-hand side constraints, SteadyCom steady state:  0\n"
     ]
    }
   ],
   "source": [
    "print('Number of active right-hand side constraints, steady state 2: ', len(np.where(x1_ss2[J1:][nonzero_rhs_idx] * biomass_ss2[0] + x2_ss2[J2:][nonzero_rhs_idx] * biomass_ss2[1] + x3_ss2[J3:][nonzero_rhs_idx] * biomass_ss2[2] + x4_ss2[J4:][nonzero_rhs_idx] * biomass_ss2[3] - reaction_lb[lumen_reactions_idx.flatten()][nonzero_rhs_idx] == 0)[0]))\n",
    "print('Number of active right-hand side constraints, steady state 3: ', len(np.where(x1_ss3[J1:][nonzero_rhs_idx] * biomass_ss3[0] + x2_ss3[J2:][nonzero_rhs_idx] * biomass_ss3[1] + x3_ss3[J3:][nonzero_rhs_idx] * biomass_ss3[2] + x4_ss3[J4:][nonzero_rhs_idx] * biomass_ss3[3] - reaction_lb[lumen_reactions_idx.flatten()][nonzero_rhs_idx] == 0)[0]))\n",
    "print('Number of active right-hand side constraints, SteadyCom steady state: ', len(np.where(x1_steadycom[J1:][nonzero_rhs_idx] * biomass_steadycom[0] + x2_steadycom[J2:][nonzero_rhs_idx] * biomass_steadycom[1] + x3_steadycom[J3:][nonzero_rhs_idx] * biomass_steadycom[2] + x4_steadycom[J4:][nonzero_rhs_idx] * biomass_steadycom[3] - reaction_lb[lumen_reactions_idx.flatten()][nonzero_rhs_idx] == 0)[0]))\n"
   ]
  },
  {
   "cell_type": "code",
   "execution_count": null,
   "id": "9c37ceb1-6e51-4a53-8d29-2847e2b7b76f",
   "metadata": {},
   "outputs": [],
   "source": []
  },
  {
   "cell_type": "code",
   "execution_count": null,
   "id": "25177092-185a-4087-9ff9-56e10f8adb11",
   "metadata": {},
   "outputs": [],
   "source": []
  },
  {
   "cell_type": "code",
   "execution_count": 21,
   "id": "def37390-97d0-45f9-bc82-e713b31f5300",
   "metadata": {},
   "outputs": [],
   "source": [
    "exhausted_aux_mets_invaded = []\n",
    "exhausted_aux_mets_uninvaded = []\n",
    "limited_ex_resources_invaded = []\n",
    "limited_ex_resources_uninvaded = []\n",
    "active_lb_invaded = []\n",
    "active_lb_uninvaded = []\n",
    "active_ub_invaded = []\n",
    "active_ub_uninvaded = []\n"
   ]
  },
  {
   "cell_type": "code",
   "execution_count": 22,
   "id": "895fba5d-b862-46ce-bfe4-87d5d0960706",
   "metadata": {},
   "outputs": [],
   "source": [
    "arg_ex_idx = np.where(Ec1_reaction_names == 'Ec1IEX_arg__L[u]tr')[0]\n",
    "lys_ex_idx = np.where(Ec1_reaction_names == 'Ec1IEX_lys__L[u]tr')[0]\n",
    "met_ex_idx = np.where(Ec1_reaction_names == 'Ec1IEX_met__L[u]tr')[0]\n",
    "phe_ex_idx = np.where(Ec1_reaction_names == 'Ec1IEX_phe__L[u]tr')[0]\n"
   ]
  },
  {
   "cell_type": "code",
   "execution_count": 23,
   "id": "108e7823-7089-4eb7-b385-638f311b951a",
   "metadata": {},
   "outputs": [],
   "source": [
    "nonzero_rhs_idx = np.where(reaction_lb[lumen_reactions_idx.flatten()] != 0)[0]\n"
   ]
  },
  {
   "cell_type": "code",
   "execution_count": 24,
   "id": "7b26e46b-0a12-4c6a-bbdc-57d02d0114fa",
   "metadata": {
    "tags": []
   },
   "outputs": [],
   "source": [
    "for i in range(len(invaded_steady_states)):\n",
    "    ss_i = invaded_steady_states[i]\n",
    "    biomass_ss_i = ss_i[0]\n",
    "    x1_ss_i = ss_i[1]\n",
    "    x2_ss_i = ss_i[2]\n",
    "    x3_ss_i = ss_i[3]\n",
    "    x4_ss_i = ss_i[4]\n",
    "\n",
    "    arg_balance = x1_ss_i[arg_ex_idx][0][0] * biomass_ss_i[0] + x2_ss_i[arg_ex_idx][0][0] * biomass_ss_i[1] + x3_ss_i[arg_ex_idx][0][0] * biomass_ss_i[2] + x4_ss_i[arg_ex_idx][0][0] * biomass_ss_i[3]\n",
    "    arg_balance = int(np.abs(arg_balance) < 1e-6)\n",
    "    lys_balance = x1_ss_i[lys_ex_idx][0][0] * biomass_ss_i[0] + x2_ss_i[lys_ex_idx][0][0] * biomass_ss_i[1] + x3_ss_i[lys_ex_idx][0][0] * biomass_ss_i[2] + x4_ss_i[lys_ex_idx][0][0] * biomass_ss_i[3]\n",
    "    lys_balance = int(np.abs(lys_balance) < 1e-6)\n",
    "    met_balance = x1_ss_i[met_ex_idx][0][0] * biomass_ss_i[0] + x2_ss_i[met_ex_idx][0][0] * biomass_ss_i[1] + x3_ss_i[met_ex_idx][0][0] * biomass_ss_i[2] + x4_ss_i[met_ex_idx][0][0] * biomass_ss_i[3]\n",
    "    met_balance = int(np.abs(met_balance) < 1e-6)\n",
    "    phe_balance = x1_ss_i[phe_ex_idx][0][0] * biomass_ss_i[0] + x2_ss_i[phe_ex_idx][0][0] * biomass_ss_i[1] + x3_ss_i[phe_ex_idx][0][0] * biomass_ss_i[2] + x4_ss_i[phe_ex_idx][0][0] * biomass_ss_i[3]\n",
    "    phe_balance = int(np.abs(phe_balance) < 1e-6)\n",
    "    exhausted_aux_mets_invaded.append(arg_balance + lys_balance + met_balance + phe_balance)\n",
    "\n",
    "    nonzero_rhs_idx = np.where(reaction_lb[lumen_reactions_idx.flatten()] != 0)[0]\n",
    "    active_rhs_idx = np.where(x1_ss_i[J1:][nonzero_rhs_idx] * biomass_ss_i[0] + x2_ss_i[J2:][nonzero_rhs_idx] * biomass_ss_i[1] + x3_ss_i[J3:][nonzero_rhs_idx] * biomass_ss_i[2] + x4_ss_i[J4:][nonzero_rhs_idx] * biomass_ss_i[3] - reaction_lb[lumen_reactions_idx.flatten()][nonzero_rhs_idx] <= 1e-6)[0]\n",
    "    limited_ex_resources_invaded.append(len(active_rhs_idx))\n",
    "\n",
    "    nonzero_reaction_lb_idx = np.where(reaction_lb[Ec1_reactions_idx.flatten()] != 0)[0]\n",
    "    active_lb = len(np.where(x1_ss_i[0:J1][nonzero_reaction_lb_idx] - reaction_lb[Ec1_reactions_idx.flatten()][nonzero_reaction_lb_idx] == 0)[0])\n",
    "    active_lb = active_lb + len(np.where(x2_ss_i[0:J2][nonzero_reaction_lb_idx] - reaction_lb[Ec2_reactions_idx.flatten()][nonzero_reaction_lb_idx] == 0)[0])\n",
    "    active_lb = active_lb + len(np.where(x3_ss_i[0:J3][nonzero_reaction_lb_idx] - reaction_lb[Ec3_reactions_idx.flatten()][nonzero_reaction_lb_idx] == 0)[0])\n",
    "    active_lb = active_lb + len(np.where(x4_ss_i[0:J4][nonzero_reaction_lb_idx] - reaction_lb[Ec4_reactions_idx.flatten()][nonzero_reaction_lb_idx] == 0)[0])\n",
    "    active_lb_invaded.append(active_lb)\n",
    "\n",
    "    nonzero_reaction_ub_idx = np.where(reaction_ub[Ec1_reactions_idx.flatten()] != 0)[0]\n",
    "    active_ub = len(np.where(reaction_ub[Ec1_reactions_idx.flatten()][nonzero_reaction_ub_idx] - x1_ss_i[0:J1][nonzero_reaction_ub_idx] == 0)[0])\n",
    "    active_ub = active_ub + len(np.where(reaction_ub[Ec2_reactions_idx.flatten()][nonzero_reaction_ub_idx] - x2_ss_i[0:J2][nonzero_reaction_ub_idx] == 0)[0])\n",
    "    active_ub = active_ub + len(np.where(reaction_ub[Ec3_reactions_idx.flatten()][nonzero_reaction_ub_idx] - x3_ss_i[0:J3][nonzero_reaction_ub_idx] == 0)[0])\n",
    "    active_ub = active_ub + len(np.where(reaction_ub[Ec4_reactions_idx.flatten()][nonzero_reaction_ub_idx] - x4_ss_i[0:J4][nonzero_reaction_ub_idx] == 0)[0])\n",
    "    active_ub_invaded.append(active_ub)\n",
    "    \n",
    "for i in range(len(uninvaded_steady_states)):\n",
    "    ss_i = uninvaded_steady_states[i]\n",
    "    biomass_ss_i = ss_i[0]\n",
    "    x1_ss_i = ss_i[1]\n",
    "    x2_ss_i = ss_i[2]\n",
    "    x3_ss_i = ss_i[3]\n",
    "    x4_ss_i = ss_i[4]\n",
    "\n",
    "    arg_balance = x1_ss_i[arg_ex_idx][0][0] * biomass_ss_i[0] + x2_ss_i[arg_ex_idx][0][0] * biomass_ss_i[1] + x3_ss_i[arg_ex_idx][0][0] * biomass_ss_i[2] + x4_ss_i[arg_ex_idx][0][0] * biomass_ss_i[3]\n",
    "    arg_balance = int(np.abs(arg_balance) < 1e-6)\n",
    "    lys_balance = x1_ss_i[lys_ex_idx][0][0] * biomass_ss_i[0] + x2_ss_i[lys_ex_idx][0][0] * biomass_ss_i[1] + x3_ss_i[lys_ex_idx][0][0] * biomass_ss_i[2] + x4_ss_i[lys_ex_idx][0][0] * biomass_ss_i[3]\n",
    "    lys_balance = int(np.abs(lys_balance) < 1e-6)\n",
    "    met_balance = x1_ss_i[met_ex_idx][0][0] * biomass_ss_i[0] + x2_ss_i[met_ex_idx][0][0] * biomass_ss_i[1] + x3_ss_i[met_ex_idx][0][0] * biomass_ss_i[2] + x4_ss_i[met_ex_idx][0][0] * biomass_ss_i[3]\n",
    "    met_balance = int(np.abs(met_balance) < 1e-6)\n",
    "    phe_balance = x1_ss_i[phe_ex_idx][0][0] * biomass_ss_i[0] + x2_ss_i[phe_ex_idx][0][0] * biomass_ss_i[1] + x3_ss_i[phe_ex_idx][0][0] * biomass_ss_i[2] + x4_ss_i[phe_ex_idx][0][0] * biomass_ss_i[3]\n",
    "    phe_balance = int(np.abs(phe_balance) < 1e-6)\n",
    "    exhausted_aux_mets_uninvaded.append(arg_balance + lys_balance + met_balance + phe_balance)\n",
    "\n",
    "    nonzero_rhs_idx = np.where(reaction_lb[lumen_reactions_idx.flatten()] != 0)[0]\n",
    "    active_rhs_idx = np.where(x1_ss_i[J1:][nonzero_rhs_idx] * biomass_ss_i[0] + x2_ss_i[J2:][nonzero_rhs_idx] * biomass_ss_i[1] + x3_ss_i[J3:][nonzero_rhs_idx] * biomass_ss_i[2] + x4_ss_i[J4:][nonzero_rhs_idx] * biomass_ss_i[3] - reaction_lb[lumen_reactions_idx.flatten()][nonzero_rhs_idx] <= 1e-6)[0]\n",
    "    limited_ex_resources_uninvaded.append(len(active_rhs_idx))\n",
    "\n",
    "    nonzero_reaction_lb_idx = np.where(reaction_lb[Ec1_reactions_idx.flatten()] != 0)[0]\n",
    "    active_lb = len(np.where(x1_ss_i[0:J1][nonzero_reaction_lb_idx] - reaction_lb[Ec1_reactions_idx.flatten()][nonzero_reaction_lb_idx] == 0)[0])\n",
    "    active_lb = active_lb + len(np.where(x2_ss_i[0:J2][nonzero_reaction_lb_idx] - reaction_lb[Ec2_reactions_idx.flatten()][nonzero_reaction_lb_idx] == 0)[0])\n",
    "    active_lb = active_lb + len(np.where(x3_ss_i[0:J3][nonzero_reaction_lb_idx] - reaction_lb[Ec3_reactions_idx.flatten()][nonzero_reaction_lb_idx] == 0)[0])\n",
    "    active_lb = active_lb + len(np.where(x4_ss_i[0:J4][nonzero_reaction_lb_idx] - reaction_lb[Ec4_reactions_idx.flatten()][nonzero_reaction_lb_idx] == 0)[0])\n",
    "    active_lb_uninvaded.append(active_lb)\n",
    "\n",
    "    nonzero_reaction_ub_idx = np.where(reaction_ub[Ec1_reactions_idx.flatten()] != 0)[0]\n",
    "    active_ub = len(np.where(reaction_ub[Ec1_reactions_idx.flatten()][nonzero_reaction_ub_idx] - x1_ss_i[0:J1][nonzero_reaction_ub_idx] == 0)[0])\n",
    "    active_ub = active_ub + len(np.where(reaction_ub[Ec2_reactions_idx.flatten()][nonzero_reaction_ub_idx] - x2_ss_i[0:J2][nonzero_reaction_ub_idx] == 0)[0])\n",
    "    active_ub = active_ub + len(np.where(reaction_ub[Ec3_reactions_idx.flatten()][nonzero_reaction_ub_idx] - x3_ss_i[0:J3][nonzero_reaction_ub_idx] == 0)[0])\n",
    "    active_ub = active_ub + len(np.where(reaction_ub[Ec4_reactions_idx.flatten()][nonzero_reaction_ub_idx] - x4_ss_i[0:J4][nonzero_reaction_ub_idx] == 0)[0])\n",
    "    active_ub_uninvaded.append(active_ub)\n",
    "    \n",
    "    \n",
    "\n",
    "\n"
   ]
  },
  {
   "cell_type": "code",
   "execution_count": null,
   "id": "ffb2fc1b-d324-484c-a774-2a02576737f5",
   "metadata": {},
   "outputs": [],
   "source": []
  }
 ],
 "metadata": {
  "kernelspec": {
   "display_name": "Python 3.8.8 ('base')",
   "language": "python",
   "name": "python3"
  },
  "language_info": {
   "codemirror_mode": {
    "name": "ipython",
    "version": 3
   },
   "file_extension": ".py",
   "mimetype": "text/x-python",
   "name": "python",
   "nbconvert_exporter": "python",
   "pygments_lexer": "ipython3",
   "version": "3.7.6"
  },
  "vscode": {
   "interpreter": {
    "hash": "8e32fce6a6c3fd48953af81f35dd8f0e6fbd7c4087b039bf734f43a70745cec5"
   }
  }
 },
 "nbformat": 4,
 "nbformat_minor": 5
}
